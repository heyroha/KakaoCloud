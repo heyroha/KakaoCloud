{
 "cells": [
  {
   "cell_type": "markdown",
   "id": "4360e5bd",
   "metadata": {},
   "source": [
    "## 이터레이터와 제네레이터"
   ]
  },
  {
   "cell_type": "code",
   "execution_count": 4,
   "id": "9530c879",
   "metadata": {},
   "outputs": [
    {
     "name": "stdout",
     "output_type": "stream",
     "text": [
      "제네레이터 출력: 1\n",
      "제네레이터 출력: 2\n",
      "제네레이터 출력: 3\n",
      "제네레이터 출력: 4\n",
      "for loop 출력: 1\n",
      "for loop 출력: 2\n"
     ]
    }
   ],
   "source": [
    "# 간단한 제네레이터 함수\n",
    "def count_up_to(max):\n",
    "    count = 1\n",
    "    while count < max:\n",
    "        yield count # 값을 생성하고 함수 실행 일시 중지\n",
    "        count += 1\n",
    "        \n",
    "counter = count_up_to(5)\n",
    "print(f\"제네레이터 출력: {next(counter)}\")\n",
    "print(f\"제네레이터 출력: {next(counter)}\")\n",
    "print(f\"제네레이터 출력: {next(counter)}\")\n",
    "print(f\"제네레이터 출력: {next(counter)}\")\n",
    "\n",
    "\n",
    "for num in count_up_to(3):\n",
    "    print(f\"for loop 출력: {num}\")"
   ]
  },
  {
   "cell_type": "code",
   "execution_count": 6,
   "id": "917fb42b",
   "metadata": {},
   "outputs": [
    {
     "name": "stdout",
     "output_type": "stream",
     "text": [
      "[0, 1, 4, 9, 16, 25, 36, 49, 64, 81]\n",
      "<generator object <genexpr> at 0x11559d560>\n",
      "0\n",
      "1\n",
      "4\n",
      "9\n",
      "16\n",
      "25\n",
      "36\n",
      "49\n",
      "64\n",
      "81\n"
     ]
    }
   ],
   "source": [
    "# 리스트 컴프리헨션 vs 제네레이터 표현식\n",
    "sq_list = [x ** 2 for x in range(10)] # list comprehension\n",
    "sq_gen = (x**2 for x in range(10)) # generator \n",
    "\n",
    "print(sq_list)\n",
    "print(sq_gen)\n",
    "\n",
    "for num in sq_gen:\n",
    "    print(num)"
   ]
  },
  {
   "cell_type": "code",
   "execution_count": 9,
   "id": "f256b163",
   "metadata": {},
   "outputs": [
    {
     "name": "stdout",
     "output_type": "stream",
     "text": [
      "first val\n",
      "1\n",
      "middle task process\n",
      "second val\n",
      "2\n",
      "third val\n",
      "3\n"
     ]
    }
   ],
   "source": [
    "# 제네레이터 함수의 상태 관리\n",
    "\n",
    "def stat_gen():\n",
    "    print(\"first val\")\n",
    "    yield 1\n",
    "    \n",
    "    print(\"second val\")\n",
    "    yield 2\n",
    "    \n",
    "    print(\"third val\")\n",
    "    yield 3\n",
    "    \n",
    "gen = stat_gen()\n",
    "print(next(gen))\n",
    "print(\"middle task process\")\n",
    "print(next(gen))\n",
    "print(next(gen))"
   ]
  },
  {
   "cell_type": "code",
   "execution_count": 14,
   "id": "d2527ef1",
   "metadata": {},
   "outputs": [
    {
     "name": "stdout",
     "output_type": "stream",
     "text": [
      "온도 : 18.91C, 시간 : 09:25:16\n",
      "온도 : 18.57C, 시간 : 09:25:16\n",
      "온도 : 16.54C, 시간 : 09:25:16\n",
      "온도 : 19.24C, 시간 : 09:25:16\n",
      "온도 : 17.34C, 시간 : 09:25:16\n"
     ]
    }
   ],
   "source": [
    "# 센서 -> 데이터를 보냄(실시간 데이터 스트리밍 시뮬레이션)\n",
    "import time\n",
    "import random\n",
    "\n",
    "def sensor_data_stream():\n",
    "    while True:\n",
    "        temp = 20 + random.uniform(-5,5)\n",
    "        yield f\"온도 : {temp:.2f}C, 시간 : {time.strftime('%H:%M:%S')}\"\n",
    "    \n",
    "    \n",
    "stream = sensor_data_stream()\n",
    "for _ in range(5):\n",
    "    print(next(stream))"
   ]
  },
  {
   "cell_type": "markdown",
   "id": "5f122519",
   "metadata": {},
   "source": [
    "## 동시성과 병렬처리"
   ]
  },
  {
   "cell_type": "code",
   "execution_count": 30,
   "id": "7f708214",
   "metadata": {},
   "outputs": [
    {
     "name": "stdout",
     "output_type": "stream",
     "text": [
      "backgound process progressing...main thread processing\n",
      "\n",
      "backgound process progressing...\n",
      "backgound process progressing...\n",
      "main thread finished\n"
     ]
    }
   ],
   "source": [
    "import threading\n",
    "import time\n",
    "\n",
    "stop_event = threading.Event()\n",
    "\n",
    "def background_task():\n",
    "    while not stop_event.is_set():\n",
    "        print(\"backgound process progressing...\")\n",
    "        time.sleep(1)\n",
    "\n",
    "#making daemon thread\n",
    "daemon_thread = threading.Thread(target = background_task,daemon = True)\n",
    "daemon_thread.start()\n",
    "\n",
    "print(\"main thread processing\")\n",
    "time.sleep(3)\n",
    "\n",
    "stop_event.set()\n",
    "print(\"main thread finished\")"
   ]
  },
  {
   "cell_type": "code",
   "execution_count": 32,
   "id": "9a2df34c",
   "metadata": {},
   "outputs": [
    {
     "name": "stdout",
     "output_type": "stream",
     "text": [
      "대기자: 이벤트를 기다리는 중\n",
      "설정자: 작업 중...\n"
     ]
    },
    {
     "name": "stdout",
     "output_type": "stream",
     "text": [
      "설정자:이제 이벤트를 설정합니다.\n",
      "대기자: 이벤트를 수신하고 작업 진행!\n"
     ]
    }
   ],
   "source": [
    "# 스레드 동기화 도구\n",
    "import threading\n",
    "import time\n",
    "\n",
    "event = threading.Event()\n",
    "\n",
    "def waiter():\n",
    "    print(\"대기자: 이벤트를 기다리는 중\")\n",
    "    event.wait()\n",
    "    print(\"대기자: 이벤트를 수신하고 작업 진행!\")          \n",
    "    \n",
    "def setter():\n",
    "    print(\"설정자: 작업 중...\")\n",
    "    time.sleep(3)\n",
    "    print(\"설정자:이제 이벤트를 설정합니다.\")\n",
    "    event.set()\n",
    "    \n",
    "    \n",
    "# 스레드 시작\n",
    "t1 = threading.Thread(target = waiter)\n",
    "t2 = threading.Thread(target = setter)\n",
    "\n",
    "t1.start()\n",
    "t2.start()"
   ]
  },
  {
   "cell_type": "code",
   "execution_count": 37,
   "id": "aee5ddd7",
   "metadata": {},
   "outputs": [
    {
     "name": "stdout",
     "output_type": "stream",
     "text": [
      "대기 스레드 데이터를 기다립니다...\n",
      "준비 스레드: 데이터 준비 중...\n",
      "준비 스레드:데이터가 준비 되었습니다. \n",
      "대기 스레드: 데이터 준비된 데이터를 받았습니다!\n"
     ]
    }
   ],
   "source": [
    "## condition\n",
    "\n",
    "import threading\n",
    "import time\n",
    "\n",
    "data = None\n",
    "condition = threading.Condition()\n",
    "\n",
    "def wait_for_data():\n",
    "    print(\"대기 스레드 데이터를 기다립니다...\")\n",
    "    \n",
    "    with condition:\n",
    "        condition.wait()\n",
    "        \n",
    "        print(f\"대기 스레드: 데이터 {data}를 받았습니다!\")\n",
    "    \n",
    "def prepare_data():\n",
    "    global data\n",
    "    \n",
    "    print(\"준비 스레드: 데이터 준비 중...\")\n",
    "    time.sleep(2)\n",
    "    \n",
    "    with condition:\n",
    "        data = \"준비된 데이터\"\n",
    "        print(\"준비 스레드:데이터가 준비 되었습니다. \")\n",
    "        condition.notify()\n",
    "        \n",
    "        \n",
    "t1 = threading.Thread(target = wait_for_data)\n",
    "t2 = threading.Thread(target = prepare_data)\n",
    "\n",
    "t1.start()\n",
    "t2.start()\n",
    "\n",
    "t1.join()\n",
    "t2.join()"
   ]
  },
  {
   "cell_type": "code",
   "execution_count": 42,
   "id": "bf416f25",
   "metadata": {},
   "outputs": [
    {
     "name": "stdout",
     "output_type": "stream",
     "text": [
      "작업 생성 시작\n",
      "작업 추가 : 작업-0\n",
      "워커 0시작\n",
      "워커 0가 작업-0 처리 중...\n",
      "워커 1시작\n",
      "워커 2시작\n",
      "결과 수집기 시작\n",
      "작업 추가 : 작업-1워커 1가 작업-1 처리 중...\n",
      "\n",
      "작업 추가 : 작업-2\n",
      "워커 2가 작업-2 처리 중...\n",
      "작업 추가 : 작업-3\n"
     ]
    },
    {
     "name": "stderr",
     "output_type": "stream",
     "text": [
      "Exception in thread Thread-368 (result_collector):\n",
      "Traceback (most recent call last):\n",
      "  File \"/Users/apple/.pyenv/versions/3.12.11/lib/python3.12/threading.py\", line 1075, in _bootstrap_inner\n",
      "    self.run()\n",
      "  File \"/Users/apple/.pyenv/versions/3.12.11/lib/python3.12/site-packages/ipykernel/ipkernel.py\", line 772, in run_closure\n",
      "    _threading_Thread_run(self)\n",
      "  File \"/Users/apple/.pyenv/versions/3.12.11/lib/python3.12/threading.py\", line 1012, in run\n",
      "    self._target(*self._args, **self._kwargs)\n",
      "  File \"/var/folders/hs/81ncphtd2yzggndhp3qhjq400000gn/T/ipykernel_1282/1817078855.py\", line 57, in result_collector\n",
      "AttributeError: 'str' object has no attribute 'append'\n"
     ]
    },
    {
     "name": "stdout",
     "output_type": "stream",
     "text": [
      "남은 작업 수: 1결과 수신 워커: 0-> 작업-0 완료 (소요시간 : 0.76초)\n",
      "\n",
      "워커 0가 작업-3 처리 중...\n",
      "작업 추가 : 작업-4\n",
      "작업 추가 : 작업-5\n",
      "작업 추가 : 작업-6\n",
      "작업 추가 : 작업-7\n",
      "남은 작업 수: 4\n",
      "워커 2가 작업-4 처리 중...\n",
      "남은 작업 수: 3\n",
      "워커 1가 작업-5 처리 중...\n",
      "작업 추가 : 작업-8\n",
      "남은 작업 수: 3\n",
      "워커 0가 작업-6 처리 중...\n",
      "작업 추가 : 작업-9\n",
      "모든 작업 생성 완료\n",
      "남은 작업 수: 6\n",
      "워커 2가 작업-7 처리 중...\n",
      "남은 작업 수: 5\n",
      "워커 1가 작업-8 처리 중...\n",
      "남은 작업 수: 4\n",
      "워커 0가 작업-9 처리 중...\n",
      "남은 작업 수: 3\n",
      "워커 2 종료\n",
      "남은 작업 수: 2\n",
      "워커 0 종료\n",
      "남은 작업 수: 1\n",
      "워커 1 종료\n",
      "모든 작업 완료!\n"
     ]
    }
   ],
   "source": [
    "# 작업 분배 시스템\n",
    "\n",
    "import threading\n",
    "import queue\n",
    "import time\n",
    "import random\n",
    "\n",
    "task_queue = queue.Queue()\n",
    "result_queue = queue.Queue()\n",
    "\n",
    "def create_tasks():\n",
    "    print(\"작업 생성 시작\")\n",
    "    #10개의 작업 생성\n",
    "    for i in range(10):\n",
    "        task = f\"작업-{i}\"\n",
    "        task_queue.put(task)\n",
    "        print(f\"작업 추가 : {task}\")\n",
    "        time.sleep(random.uniform(0.1,0.3)) # 약간의 간격을 두고 작업 생성\n",
    "        \n",
    "    # 영업 종료 신호(워커 수만큼), 워커 쓰레드 생성\n",
    "    for _ in range(3):\n",
    "        task_queue.put(None)\n",
    "    print(\"모든 작업 생성 완료\")\n",
    "    \n",
    "# 작업 처리 함수\n",
    "def worker(worker_id):\n",
    "    print(f\"워커 {worker_id}시작\") #  출근 신고\n",
    "    while True: #계속 일하는 무한 루프\n",
    "        #작업 가져오기 (주문서 확인)\n",
    "        task = task_queue.get() #  보관함에서 작업 꺼냄\n",
    "        \n",
    "        #퇴근 시간인지 확인\n",
    "        if task is None:\n",
    "            print(f\"워커 {worker_id} 종료\") #퇴근!\n",
    "            break\n",
    "        \n",
    "        #작업 처리(요리 만들기)\n",
    "        print(f\"워커 {worker_id}가 {task} 처리 중...\")\n",
    "        processing_time = random.uniform(0.5,1.5) # 요리 시간은 랜덤\n",
    "        time.sleep(processing_time)\n",
    "        \n",
    "        #  결과 제출 (완성된 요리 올려두기)\n",
    "        result = f\"{task} 완료 (소요시간 : {processing_time:.2f}초)\"\n",
    "        result_queue.put((worker_id, result))\n",
    "        \n",
    "        # 작업 완료 표시 (주문서에 완료 도장)\n",
    "        task_queue.task_done() # 현재 처리 중인 특정 작업 하나가 완료, 전체 작업이 끝났다는 의미는 아님\n",
    "        print(f\"남은 작업 수: {task_queue.qsize()}\")\n",
    "        \n",
    "def result_collector():\n",
    "    print(\"결과 수집기 시작\")\n",
    "    results = []\n",
    "    \n",
    "    for _ in range(10):\n",
    "        worker_id, result = result_queue.get()\n",
    "        print(f\"결과 수신 워커: {worker_id}-> {result}\")\n",
    "        result.append(result)\n",
    "        result_queue.task_done()\n",
    "    \n",
    "    print(f\"총 {len(results)}개 결과 수집 완료\")\n",
    "    \n",
    "    \n",
    "creator = threading.Thread(target= create_tasks)\n",
    "workers = [threading.Thread(target = worker, args = (i,))for i in range(3)]\n",
    "collector = threading.Thread(target = result_collector)\n",
    "\n",
    "creator.start()\n",
    "for w in workers:\n",
    "    w.start()\n",
    "collector.start()\n",
    "\n",
    "creator.join()\n",
    "for w in workers:\n",
    "    w.join()\n",
    "collector.join()\n",
    "\n",
    "print(\"모든 작업 완료!\")\n"
   ]
  },
  {
   "cell_type": "code",
   "execution_count": 51,
   "id": "c4ca1621",
   "metadata": {},
   "outputs": [],
   "source": [
    "# 비동기 프로그래밍\n",
    "\n",
    "import asyncio\n",
    "\n",
    "#코루틴 정의\n",
    "\n",
    "async def say_hello(name, delay):\n",
    "    print(f\"{name} start greeting\")\n",
    "    await asyncio.sleep(delay) # 비동기적으로 대기\n",
    "    print(f\"{name} finish greeting (delay time: {delay}s)\")\n",
    "    return f\"{name}'s result\"\n",
    "\n",
    "\n",
    "async def main():\n",
    "    print(\"start program\")\n",
    "\n",
    "    results = await asyncio.gather(\n",
    "        say_hello(\"A\",3),\n",
    "        say_hello(\"B\",1),\n",
    "        say_hello(\"C\",2),\n",
    "    )\n",
    "    \n",
    "    print(f\"all results: {results}\")\n",
    "    print(\"프로그램 종료\")\n",
    "    \n",
    "    # 이벤트 루프 생성 및 실행\n",
    "    if __name__ == \"__main__\":\n",
    "        asyncio.run(main())"
   ]
  },
  {
   "cell_type": "code",
   "execution_count": 54,
   "id": "da9f0616",
   "metadata": {},
   "outputs": [
    {
     "name": "stderr",
     "output_type": "stream",
     "text": [
      "15355.15s - pydevd: Sending message related to process being replaced timed-out after 5 seconds\n"
     ]
    },
    {
     "name": "stdout",
     "output_type": "stream",
     "text": [
      "Collecting aiohttp\n",
      "  Downloading aiohttp-3.12.15-cp312-cp312-macosx_11_0_arm64.whl.metadata (7.7 kB)\n",
      "Collecting aiohappyeyeballs>=2.5.0 (from aiohttp)\n",
      "  Downloading aiohappyeyeballs-2.6.1-py3-none-any.whl.metadata (5.9 kB)\n",
      "Collecting aiosignal>=1.4.0 (from aiohttp)\n",
      "  Downloading aiosignal-1.4.0-py3-none-any.whl.metadata (3.7 kB)\n",
      "Collecting attrs>=17.3.0 (from aiohttp)\n",
      "  Downloading attrs-25.3.0-py3-none-any.whl.metadata (10 kB)\n",
      "Collecting frozenlist>=1.1.1 (from aiohttp)\n",
      "  Downloading frozenlist-1.7.0-cp312-cp312-macosx_11_0_arm64.whl.metadata (18 kB)\n",
      "Collecting multidict<7.0,>=4.5 (from aiohttp)\n",
      "  Downloading multidict-6.6.4-cp312-cp312-macosx_11_0_arm64.whl.metadata (5.3 kB)\n",
      "Collecting propcache>=0.2.0 (from aiohttp)\n",
      "  Downloading propcache-0.3.2-cp312-cp312-macosx_11_0_arm64.whl.metadata (12 kB)\n",
      "Collecting yarl<2.0,>=1.17.0 (from aiohttp)\n",
      "  Downloading yarl-1.20.1-cp312-cp312-macosx_11_0_arm64.whl.metadata (73 kB)\n",
      "Collecting typing-extensions>=4.2 (from aiosignal>=1.4.0->aiohttp)\n",
      "  Downloading typing_extensions-4.15.0-py3-none-any.whl.metadata (3.3 kB)\n",
      "Collecting idna>=2.0 (from yarl<2.0,>=1.17.0->aiohttp)\n",
      "  Downloading idna-3.10-py3-none-any.whl.metadata (10 kB)\n",
      "Downloading aiohttp-3.12.15-cp312-cp312-macosx_11_0_arm64.whl (469 kB)\n",
      "Downloading aiohappyeyeballs-2.6.1-py3-none-any.whl (15 kB)\n",
      "Downloading aiosignal-1.4.0-py3-none-any.whl (7.5 kB)\n",
      "Downloading attrs-25.3.0-py3-none-any.whl (63 kB)\n",
      "Downloading frozenlist-1.7.0-cp312-cp312-macosx_11_0_arm64.whl (46 kB)\n",
      "Downloading multidict-6.6.4-cp312-cp312-macosx_11_0_arm64.whl (43 kB)\n",
      "Downloading propcache-0.3.2-cp312-cp312-macosx_11_0_arm64.whl (43 kB)\n",
      "Downloading yarl-1.20.1-cp312-cp312-macosx_11_0_arm64.whl (89 kB)\n",
      "Downloading idna-3.10-py3-none-any.whl (70 kB)\n",
      "Downloading typing_extensions-4.15.0-py3-none-any.whl (44 kB)\n",
      "Installing collected packages: typing-extensions, propcache, multidict, idna, frozenlist, attrs, aiohappyeyeballs, yarl, aiosignal, aiohttp\n",
      "Successfully installed aiohappyeyeballs-2.6.1 aiohttp-3.12.15 aiosignal-1.4.0 attrs-25.3.0 frozenlist-1.7.0 idna-3.10 multidict-6.6.4 propcache-0.3.2 typing-extensions-4.15.0 yarl-1.20.1\n",
      "\n",
      "\u001b[1m[\u001b[0m\u001b[34;49mnotice\u001b[0m\u001b[1;39;49m]\u001b[0m\u001b[39;49m A new release of pip is available: \u001b[0m\u001b[31;49m25.0.1\u001b[0m\u001b[39;49m -> \u001b[0m\u001b[32;49m25.2\u001b[0m\n",
      "\u001b[1m[\u001b[0m\u001b[34;49mnotice\u001b[0m\u001b[1;39;49m]\u001b[0m\u001b[39;49m To update, run: \u001b[0m\u001b[32;49mpip install --upgrade pip\u001b[0m\n"
     ]
    }
   ],
   "source": [
    "!pip install aiohttp"
   ]
  },
  {
   "cell_type": "code",
   "execution_count": 58,
   "id": "d7cacfac",
   "metadata": {},
   "outputs": [
    {
     "name": "stderr",
     "output_type": "stream",
     "text": [
      "/Users/apple/.pyenv/versions/3.12.11/lib/python3.12/ast.py:52: RuntimeWarning: coroutine 'main' was never awaited\n",
      "  return compile(source, filename, mode, flags,\n",
      "RuntimeWarning: Enable tracemalloc to get the object allocation traceback\n"
     ]
    },
    {
     "ename": "RuntimeError",
     "evalue": "asyncio.run() cannot be called from a running event loop",
     "output_type": "error",
     "traceback": [
      "\u001b[31m---------------------------------------------------------------------------\u001b[39m",
      "\u001b[31mRuntimeError\u001b[39m                              Traceback (most recent call last)",
      "\u001b[36mCell\u001b[39m\u001b[36m \u001b[39m\u001b[32mIn[58]\u001b[39m\u001b[32m, line 74\u001b[39m\n\u001b[32m     71\u001b[39m     \u001b[38;5;28mprint\u001b[39m(\u001b[33mf\u001b[39m\u001b[33m\"\u001b[39m\u001b[33m병렬 처리 : 총 \u001b[39m\u001b[38;5;132;01m{\u001b[39;00mpar_total_bytes\u001b[38;5;132;01m}\u001b[39;00m\u001b[33mbytes\u001b[39m\u001b[33m\"\u001b[39m)\n\u001b[32m     73\u001b[39m \u001b[38;5;28;01mif\u001b[39;00m \u001b[34m__name__\u001b[39m == \u001b[33m\"\u001b[39m\u001b[33m__main__\u001b[39m\u001b[33m\"\u001b[39m:\n\u001b[32m---> \u001b[39m\u001b[32m74\u001b[39m     \u001b[43masyncio\u001b[49m\u001b[43m.\u001b[49m\u001b[43mrun\u001b[49m\u001b[43m(\u001b[49m\u001b[43mmain\u001b[49m\u001b[43m(\u001b[49m\u001b[43m)\u001b[49m\u001b[43m)\u001b[49m\n",
      "\u001b[36mFile \u001b[39m\u001b[32m~/.pyenv/versions/3.12.11/lib/python3.12/asyncio/runners.py:191\u001b[39m, in \u001b[36mrun\u001b[39m\u001b[34m(main, debug, loop_factory)\u001b[39m\n\u001b[32m    161\u001b[39m \u001b[38;5;250m\u001b[39m\u001b[33;03m\"\"\"Execute the coroutine and return the result.\u001b[39;00m\n\u001b[32m    162\u001b[39m \n\u001b[32m    163\u001b[39m \u001b[33;03mThis function runs the passed coroutine, taking care of\u001b[39;00m\n\u001b[32m   (...)\u001b[39m\u001b[32m    187\u001b[39m \u001b[33;03m    asyncio.run(main())\u001b[39;00m\n\u001b[32m    188\u001b[39m \u001b[33;03m\"\"\"\u001b[39;00m\n\u001b[32m    189\u001b[39m \u001b[38;5;28;01mif\u001b[39;00m events._get_running_loop() \u001b[38;5;129;01mis\u001b[39;00m \u001b[38;5;129;01mnot\u001b[39;00m \u001b[38;5;28;01mNone\u001b[39;00m:\n\u001b[32m    190\u001b[39m     \u001b[38;5;66;03m# fail fast with short traceback\u001b[39;00m\n\u001b[32m--> \u001b[39m\u001b[32m191\u001b[39m     \u001b[38;5;28;01mraise\u001b[39;00m \u001b[38;5;167;01mRuntimeError\u001b[39;00m(\n\u001b[32m    192\u001b[39m         \u001b[33m\"\u001b[39m\u001b[33masyncio.run() cannot be called from a running event loop\u001b[39m\u001b[33m\"\u001b[39m)\n\u001b[32m    194\u001b[39m \u001b[38;5;28;01mwith\u001b[39;00m Runner(debug=debug, loop_factory=loop_factory) \u001b[38;5;28;01mas\u001b[39;00m runner:\n\u001b[32m    195\u001b[39m     \u001b[38;5;28;01mreturn\u001b[39;00m runner.run(main)\n",
      "\u001b[31mRuntimeError\u001b[39m: asyncio.run() cannot be called from a running event loop"
     ]
    }
   ],
   "source": [
    "# 여러 웹사이트에서 동시에 정보 수집\n",
    "import asyncio\n",
    "import aiohttp\n",
    "import time\n",
    "\n",
    "# 대상 웹사이트 목록\n",
    "websites = [\n",
    "    \"https://www.google.com\",\n",
    "    \"https://www.naver.com\",\n",
    "    \"https://www.daum.net\",\n",
    "    \"https://www.github.com\",\n",
    "    \"https://www.python.org\"\n",
    "]\n",
    "\n",
    "# 비동기적으로 웹사이트 내용 가져오기\n",
    "async def fetch(session,url):\n",
    "    print(f\"{url}요청시작\")\n",
    "    try:\n",
    "        start_time = time.time()\n",
    "        async with session.get(url, timeout = 10) as respone:\n",
    "            content = await response.text()\n",
    "            elapsed = time.time() -start_time\n",
    "            print(f\"{url} 응답 완료: {len(content)} 바이트 (소요시간: {elapsed:.2f}s)\")\n",
    "            return url, len(content), elapsed\n",
    "    except Exception as e:\n",
    "        print(f\"{url} 오류 발생 : {e}\")\n",
    "        return url, 0,0\n",
    "    \n",
    "    \n",
    "# 모든 웹사이트 순차적으로 요청\n",
    "async def fetch_all_sequential(urls):\n",
    "    start_time = time.time()\n",
    "    results = []\n",
    "\n",
    "\n",
    "    async with aiohttp.ClientSession() as session:\n",
    "        for url in urls:\n",
    "            result = await fetch(session, url)            \n",
    "            results.append(result)\n",
    "    end_time = time.time()\n",
    "    print(f\"순차 처리 완료: {end_time- start_time:.2f}s 소요\")\n",
    "    return results\n",
    "\n",
    "    async def fetch_all_parallel(urls):\n",
    "        start_time = time.time()\n",
    "        \n",
    "        async with aiohttp.ClientSession() as session:\n",
    "            tasks = [fetch(session, url) for url in urls]\n",
    "            results = await asyncio.gather(*tasks)  # ✅ 병렬 실행\n",
    "        print(f\"병렬 처리 완료: {time.time() - start_time:.2f}s 소요\")\n",
    "        return results\n",
    "\n",
    "# 메인 함수\n",
    "async def main():\n",
    "    print(\"\\n=====순차 처리 시작=======\")\n",
    "    sequential_results = await fetch_all_sequential(websites)\n",
    "    \n",
    "    #잠시 대기\n",
    "    await asyncio.sleep(1)\n",
    "    \n",
    "    #병렬 처리\n",
    "    print(\"\\n=====병렬 처리 시작=======\")\n",
    "    parallel_results = await fetch_all_parallel(websites)\n",
    "    \n",
    "    #결과 요약\n",
    "    print('\\n=====결과 요약 =====')\n",
    "    seq_total_bytes = sum(r[1] for r in sequential_results)\n",
    "    par_total_bytes = sum(r[1] for r in parallel_results)\n",
    "    \n",
    "    print(f\"순차 처리 : 총 {seq_total_bytes}bytes\")\n",
    "    print(f\"병렬 처리 : 총 {par_total_bytes}bytes\")\n",
    "    \n",
    "if __name__ == \"__main__\":\n",
    "    asyncio.run(main())\n",
    "    "
   ]
  },
  {
   "cell_type": "markdown",
   "id": "932a0f9e",
   "metadata": {},
   "source": [
    "## 데이터 사이언스"
   ]
  },
  {
   "cell_type": "code",
   "execution_count": 59,
   "id": "2df82c7b",
   "metadata": {},
   "outputs": [
    {
     "ename": "ModuleNotFoundError",
     "evalue": "No module named 'numpy'",
     "output_type": "error",
     "traceback": [
      "\u001b[31m---------------------------------------------------------------------------\u001b[39m",
      "\u001b[31mModuleNotFoundError\u001b[39m                       Traceback (most recent call last)",
      "\u001b[36mCell\u001b[39m\u001b[36m \u001b[39m\u001b[32mIn[59]\u001b[39m\u001b[32m, line 1\u001b[39m\n\u001b[32m----> \u001b[39m\u001b[32m1\u001b[39m \u001b[38;5;28;01mimport\u001b[39;00m\u001b[38;5;250m \u001b[39m\u001b[34;01mnumpy\u001b[39;00m\u001b[38;5;250m \u001b[39m\u001b[38;5;28;01mas\u001b[39;00m\u001b[38;5;250m \u001b[39m\u001b[34;01mnp\u001b[39;00m\n",
      "\u001b[31mModuleNotFoundError\u001b[39m: No module named 'numpy'"
     ]
    }
   ],
   "source": [
    "import numpy as np"
   ]
  },
  {
   "cell_type": "code",
   "execution_count": 60,
   "id": "1fb5b51c",
   "metadata": {},
   "outputs": [
    {
     "ename": "ModuleNotFoundError",
     "evalue": "No module named 'numpy'",
     "output_type": "error",
     "traceback": [
      "\u001b[31m---------------------------------------------------------------------------\u001b[39m",
      "\u001b[31mModuleNotFoundError\u001b[39m                       Traceback (most recent call last)",
      "\u001b[36mCell\u001b[39m\u001b[36m \u001b[39m\u001b[32mIn[60]\u001b[39m\u001b[32m, line 1\u001b[39m\n\u001b[32m----> \u001b[39m\u001b[32m1\u001b[39m \u001b[38;5;28;01mimport\u001b[39;00m\u001b[38;5;250m \u001b[39m\u001b[34;01mnumpy\u001b[39;00m\u001b[38;5;250m \u001b[39m\u001b[38;5;28;01mas\u001b[39;00m\u001b[38;5;250m \u001b[39m\u001b[34;01mnp\u001b[39;00m\n",
      "\u001b[31mModuleNotFoundError\u001b[39m: No module named 'numpy'"
     ]
    }
   ],
   "source": [
    "import numpy as np"
   ]
  },
  {
   "cell_type": "code",
   "execution_count": null,
   "id": "843a97b2",
   "metadata": {},
   "outputs": [],
   "source": []
  }
 ],
 "metadata": {
  "kernelspec": {
   "display_name": "3.12.11",
   "language": "python",
   "name": "python3"
  },
  "language_info": {
   "codemirror_mode": {
    "name": "ipython",
    "version": 3
   },
   "file_extension": ".py",
   "mimetype": "text/x-python",
   "name": "python",
   "nbconvert_exporter": "python",
   "pygments_lexer": "ipython3",
   "version": "3.12.11"
  }
 },
 "nbformat": 4,
 "nbformat_minor": 5
}
