{
 "cells": [
  {
   "cell_type": "markdown",
   "id": "6cdf03cd",
   "metadata": {},
   "source": [
    "## 8 x 8 숫자 이미지 분류\n",
    "- sklearn digits 데이터셋 사용\n"
   ]
  },
  {
   "cell_type": "code",
   "execution_count": 1,
   "id": "9352fd85",
   "metadata": {},
   "outputs": [],
   "source": [
    "from sklearn.datasets import load_digits\n",
    "from sklearn.model_selection import train_test_split\n",
    "import numpy as np\n",
    "import matplotlib.pyplot as plt"
   ]
  },
  {
   "cell_type": "code",
   "execution_count": 25,
   "id": "d1a55db6",
   "metadata": {},
   "outputs": [
    {
     "name": "stdout",
     "output_type": "stream",
     "text": [
      "Mini MNIST Assignment\n",
      "Train data: (1437, 64)\n",
      "Test data: (360, 64)\n",
      "The number of Class: 10 (0-9 number)\n",
      "[001/100] loss=3.5584 | acc_tr=5.0% | acc_te=5.3%\n",
      "[010/100] loss=2.0995 | acc_tr=27.0% | acc_te=24.7%\n",
      "[020/100] loss=1.4350 | acc_tr=59.4% | acc_te=55.3%\n",
      "[030/100] loss=1.0685 | acc_tr=76.1% | acc_te=73.1%\n",
      "[040/100] loss=0.8579 | acc_tr=84.1% | acc_te=80.0%\n",
      "[050/100] loss=0.7252 | acc_tr=86.6% | acc_te=83.6%\n",
      "[060/100] loss=0.6348 | acc_tr=88.0% | acc_te=85.3%\n",
      "[070/100] loss=0.5693 | acc_tr=89.0% | acc_te=86.4%\n",
      "[080/100] loss=0.5195 | acc_tr=90.2% | acc_te=87.2%\n",
      "[090/100] loss=0.4802 | acc_tr=90.7% | acc_te=87.2%\n",
      "[100/100] loss=0.4483 | acc_tr=91.2% | acc_te=87.5%\n",
      "\n",
      "구현 후 다음을 확인하세요:\n",
      "- 훈련 정확도 : 90% 이상\n",
      "- 테스트 정확: 85% 이상\n",
      "- 각 숫자별 예측 성능\n",
      "Mini MNIST Assignment\n",
      "Train data: (1437, 64)\n",
      "Test data: (360, 64)\n",
      "The number of Class: 10 (0-9 number)\n"
     ]
    },
    {
     "data": {
      "text/plain": [
       "((array([[0.    , 0.    , 0.5625, ..., 0.    , 0.    , 0.    ],\n",
       "         [0.    , 0.    , 0.75  , ..., 0.    , 0.    , 0.    ],\n",
       "         [0.    , 0.    , 0.    , ..., 0.    , 0.    , 0.    ],\n",
       "         ...,\n",
       "         [0.    , 0.0625, 0.8125, ..., 0.0625, 0.    , 0.    ],\n",
       "         [0.    , 0.0625, 0.8125, ..., 0.9375, 0.1875, 0.    ],\n",
       "         [0.    , 0.    , 0.25  , ..., 0.    , 0.    , 0.    ]],\n",
       "        shape=(1437, 64)),\n",
       "  array([[0., 0., 0., ..., 1., 0., 0.],\n",
       "         [0., 0., 0., ..., 1., 0., 0.],\n",
       "         [0., 0., 0., ..., 0., 0., 1.],\n",
       "         ...,\n",
       "         [0., 0., 0., ..., 0., 0., 0.],\n",
       "         [0., 0., 1., ..., 0., 0., 0.],\n",
       "         [0., 0., 0., ..., 0., 0., 0.]], shape=(1437, 10))),\n",
       " (array([[0.    , 0.    , 0.4375, ..., 0.    , 0.    , 0.    ],\n",
       "         [0.    , 0.    , 0.    , ..., 0.25  , 0.    , 0.    ],\n",
       "         [0.    , 0.    , 0.125 , ..., 1.    , 0.3125, 0.    ],\n",
       "         ...,\n",
       "         [0.    , 0.0625, 0.875 , ..., 0.25  , 0.    , 0.    ],\n",
       "         [0.    , 0.    , 0.    , ..., 1.    , 0.4375, 0.    ],\n",
       "         [0.    , 0.    , 0.3125, ..., 1.    , 0.125 , 0.    ]],\n",
       "        shape=(360, 64)),\n",
       "  array([[0., 0., 0., ..., 1., 0., 0.],\n",
       "         [0., 0., 0., ..., 0., 0., 1.],\n",
       "         [0., 0., 0., ..., 0., 0., 0.],\n",
       "         ...,\n",
       "         [0., 0., 0., ..., 0., 0., 1.],\n",
       "         [0., 0., 0., ..., 0., 0., 0.],\n",
       "         [0., 0., 0., ..., 0., 1., 0.]], shape=(360, 10))))"
      ]
     },
     "execution_count": 25,
     "metadata": {},
     "output_type": "execute_result"
    }
   ],
   "source": [
    "def mini_mnist():\n",
    "    \n",
    "    digits = load_digits()\n",
    "    x,y = digits.data, digits.target\n",
    "    x = x / 16.0 # 정규화 0-16 -> 0-1 \n",
    "    \n",
    "    # 원-핫 인코딩\n",
    "    y_onehot = np.eye(10)[y]\n",
    "    \n",
    "    x_tr, x_t, y_tr, y_t = train_test_split(\n",
    "        x,y_onehot, test_size = 0.2, random_state = 0xC0FFEE\n",
    "    )\n",
    "    \n",
    "    print(\"Mini MNIST Assignment\")\n",
    "    print(f\"Train data: {x_tr.shape}\")\n",
    "    print(f\"Test data: {x_t.shape}\")\n",
    "    print(f\"The number of Class: 10 (0-9 number)\")\n",
    "    \n",
    "    return (x_tr, y_tr),(x_t,y_t)\n",
    "class DigitClassifier:\n",
    "    def __init__(self, input_size = 64, output_size= 10):\n",
    "        # 네트워크 구조 설계\n",
    "        self.W = np.random.randn(input_size, output_size) * 0.5\n",
    "        self.b = np.zeros((1, output_size))\n",
    "    \n",
    "        # 단일 층으로 구성\n",
    "        self.z = None \n",
    "        self.a = None\n",
    "     \n",
    "    @staticmethod\n",
    "    def softmax(z):\n",
    "        #softmax 함수 구현\n",
    "        z = z - np.max(z, axis = 1, keepdims = True)\n",
    "        exp_z = np.exp(z).astype(np.float32)\n",
    "        # (+1e-12)는 0으로 나누는거 방지하기 위한 수치 안정성(오차 방지용)\n",
    "        return exp_z / (np.sum(exp_z, axis = 1, keepdims = True) + 1e-12)\n",
    "    \n",
    "    @staticmethod\n",
    "    def cross_entropy_loss(y_pred, y_true):\n",
    "        # cross entropy 손실 구현\n",
    "        # 여기서도 로그 함수에 작은 값을 더해 0으로 로그를 취하는 상황을 방지하기 위함.\n",
    "        eps = 1e-12\n",
    "        logp = np.log(y_pred)\n",
    "        return -np.mean(np.sum(y_true * logp, axis = 1))\n",
    "        \n",
    "    def forward(self, x):\n",
    "        # 순전파 함수 구현\n",
    "        self.z = x @ self.W + self.b\n",
    "        self.a = self.softmax(self.z)\n",
    "        return self.a\n",
    "    \n",
    "    def backward(self, x, y, learning_rate = 0.1):\n",
    "        # 역전파 함수 구현\n",
    "        m = x.shape[0]\n",
    "        dZ = (self.a - y) /m\n",
    "        dW = x.T @ dZ\n",
    "        db = np.sum(dZ, axis = 0, keepdims = True)\n",
    "        \n",
    "        # 경사하강\n",
    "        self.W -= learning_rate * dW\n",
    "        self.b -= learning_rate * db\n",
    "      \n",
    "    def predict(self, x):\n",
    "        # 예측 함수\n",
    "        probs = self.forward(x)\n",
    "        return np.argmax(probs, axis = 1)\n",
    "      \n",
    "       \n",
    "    def accuracy(self, x,y): \n",
    "        # 정확도 계산\n",
    "        y_true = np.argmax(y, axis = 1)\n",
    "        y_pred = self.predict(x)\n",
    "        return np.mean(y_true == y_pred)\n",
    "    \n",
    "if __name__ == \"__main__\":\n",
    "    (x_tr, y_tr), (x_t, y_t) = mini_mnist()\n",
    "    \n",
    "    model = DigitClassifier(input_size = 64, output_size = 10)\n",
    "    \n",
    "    epochs = 100\n",
    "    learning_rate = 0.5\n",
    "    \n",
    "    for ep in range(1, epochs+1):\n",
    "        probs = model.forward(x_tr)\n",
    "        loss = model.cross_entropy_loss(probs, y_tr)\n",
    "        model.backward(x_tr, y_tr, learning_rate = learning_rate)\n",
    "        \n",
    "        if ep % 10 == 0 or ep ==1:\n",
    "            acc_tr = model.accuracy(x_tr, y_tr)\n",
    "            acc_te = model.accuracy(x_t, y_t)\n",
    "            print(f\"[{ep:03d}/{epochs}] loss={loss:.4f} | acc_tr={acc_tr*100:.1f}% | acc_te={acc_te*100:.1f}%\")\n",
    "\n",
    "    # 모델 학습 및 평가 \n",
    "    print(\"\\n구현 후 다음을 확인하세요:\")\n",
    "    print(\"- 훈련 정확도 : 90% 이상\")\n",
    "    print(\"- 테스트 정확: 85% 이상\")\n",
    "    print(\"- 각 숫자별 예측 성능\")\n",
    "    \n",
    "mini_mnist()"
   ]
  },
  {
   "cell_type": "code",
   "execution_count": null,
   "id": "7132ed84",
   "metadata": {},
   "outputs": [
    {
     "name": "stdout",
     "output_type": "stream",
     "text": [
      "Collecting seaborn\n",
      "  Downloading seaborn-0.13.2-py3-none-any.whl.metadata (5.4 kB)\n",
      "Requirement already satisfied: numpy!=1.24.0,>=1.20 in /Users/apple/.pyenv/versions/3.12.11/lib/python3.12/site-packages (from seaborn) (2.2.6)\n",
      "Requirement already satisfied: pandas>=1.2 in /Users/apple/.pyenv/versions/3.12.11/lib/python3.12/site-packages (from seaborn) (2.3.2)\n",
      "Requirement already satisfied: matplotlib!=3.6.1,>=3.4 in /Users/apple/.pyenv/versions/3.12.11/lib/python3.12/site-packages (from seaborn) (3.10.6)\n",
      "Requirement already satisfied: contourpy>=1.0.1 in /Users/apple/.pyenv/versions/3.12.11/lib/python3.12/site-packages (from matplotlib!=3.6.1,>=3.4->seaborn) (1.3.3)\n",
      "Requirement already satisfied: cycler>=0.10 in /Users/apple/.pyenv/versions/3.12.11/lib/python3.12/site-packages (from matplotlib!=3.6.1,>=3.4->seaborn) (0.12.1)\n",
      "Requirement already satisfied: fonttools>=4.22.0 in /Users/apple/.pyenv/versions/3.12.11/lib/python3.12/site-packages (from matplotlib!=3.6.1,>=3.4->seaborn) (4.59.2)\n",
      "Requirement already satisfied: kiwisolver>=1.3.1 in /Users/apple/.pyenv/versions/3.12.11/lib/python3.12/site-packages (from matplotlib!=3.6.1,>=3.4->seaborn) (1.4.9)\n",
      "Requirement already satisfied: packaging>=20.0 in /Users/apple/.pyenv/versions/3.12.11/lib/python3.12/site-packages (from matplotlib!=3.6.1,>=3.4->seaborn) (25.0)\n",
      "Requirement already satisfied: pillow>=8 in /Users/apple/.pyenv/versions/3.12.11/lib/python3.12/site-packages (from matplotlib!=3.6.1,>=3.4->seaborn) (11.3.0)\n",
      "Requirement already satisfied: pyparsing>=2.3.1 in /Users/apple/.pyenv/versions/3.12.11/lib/python3.12/site-packages (from matplotlib!=3.6.1,>=3.4->seaborn) (3.2.3)\n",
      "Requirement already satisfied: python-dateutil>=2.7 in /Users/apple/.pyenv/versions/3.12.11/lib/python3.12/site-packages (from matplotlib!=3.6.1,>=3.4->seaborn) (2.9.0.post0)\n",
      "Requirement already satisfied: pytz>=2020.1 in /Users/apple/.pyenv/versions/3.12.11/lib/python3.12/site-packages (from pandas>=1.2->seaborn) (2025.2)\n",
      "Requirement already satisfied: tzdata>=2022.7 in /Users/apple/.pyenv/versions/3.12.11/lib/python3.12/site-packages (from pandas>=1.2->seaborn) (2025.2)\n",
      "Requirement already satisfied: six>=1.5 in /Users/apple/.pyenv/versions/3.12.11/lib/python3.12/site-packages (from python-dateutil>=2.7->matplotlib!=3.6.1,>=3.4->seaborn) (1.17.0)\n",
      "Downloading seaborn-0.13.2-py3-none-any.whl (294 kB)\n",
      "Installing collected packages: seaborn\n",
      "Successfully installed seaborn-0.13.2\n",
      "Note: you may need to restart the kernel to use updated packages.\n"
     ]
    }
   ],
   "source": [
    "# pip install seaborn"
   ]
  },
  {
   "cell_type": "code",
   "execution_count": 29,
   "id": "c63136d6",
   "metadata": {},
   "outputs": [
    {
     "data": {
      "image/png": "[encoded data removed]",
      "text/plain": [
       "<Figure size 600x500 with 2 Axes>"
      ]
     },
     "metadata": {},
     "output_type": "display_data"
    }
   ],
   "source": [
    "from sklearn.metrics import confusion_matrix\n",
    "import matplotlib.pyplot as plt\n",
    "import seaborn as sns \n",
    "\n",
    "# 각 클래스별 정답과 예측이 얼마나 일치했는지 확인\n",
    "\n",
    "y_true = np.argmax(y_t, axis=1)       # one-hot → 라벨\n",
    "y_pred = model.predict(x_t)           # 모델 예측\n",
    "\n",
    "cm = confusion_matrix(y_true, y_pred, labels=range(10))\n",
    "plt.figure(figsize=(6,5))\n",
    "sns.heatmap(cm, annot=True, fmt=\"d\", cmap=\"Blues\",\n",
    "            xticklabels=range(10), yticklabels=range(10))\n",
    "plt.xlabel(\"Predicted\")\n",
    "plt.ylabel(\"True\")\n",
    "plt.title(\"Confusion Matrix\")\n",
    "plt.show()\n"
   ]
  },
  {
   "cell_type": "markdown",
   "id": "7f6b4ec7",
   "metadata": {},
   "source": []
  }
 ],
 "metadata": {
  "kernelspec": {
   "display_name": "3.12.11",
   "language": "python",
   "name": "python3"
  },
  "language_info": {
   "codemirror_mode": {
    "name": "ipython",
    "version": 3
   },
   "file_extension": ".py",
   "mimetype": "text/x-python",
   "name": "python",
   "nbconvert_exporter": "python",
   "pygments_lexer": "ipython3",
   "version": "3.12.11"
  }
 },
 "nbformat": 4,
 "nbformat_minor": 5
}
