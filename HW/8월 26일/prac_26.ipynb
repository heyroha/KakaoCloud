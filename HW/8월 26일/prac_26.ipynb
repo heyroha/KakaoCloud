{
 "cells": [
  {
   "cell_type": "markdown",
   "id": "b4bc8632",
   "metadata": {},
   "source": [
    "## 예외처리"
   ]
  },
  {
   "cell_type": "code",
   "execution_count": null,
   "id": "cac2d1fd",
   "metadata": {},
   "outputs": [
    {
     "name": "stdout",
     "output_type": "stream",
     "text": [
      "오류가 발생했습니다: [Errno 2] No such file or directory: '존재하지 않는 파일.txt'\n"
     ]
    }
   ],
   "source": [
    "# 예외 발생 예시들\n",
    "\n",
    "try:\n",
    "    # 1. 사용자 입력 오류\n",
    "    age = int(input(\"나이를 입력하세요\")) \n",
    "    #문자열 입력시 오류가 발생했습니다: invalid literal for int() with base 10: 'ss'\n",
    "    \n",
    "    # 2. 파일 처리 오류\n",
    "    with open(\"존재하지 않는 파일.txt\", \"r\") as filw: \n",
    "        content = file.read()\n",
    "    # 오류가 발생했습니다: [Errno 2] No such file or directory: '존재하지 않는 파일.txt'\n",
    "    \n",
    "    # 3. 계산 오류\n",
    "    result = 10/0\n",
    "    \n",
    "except Exception as e: \n",
    "    print(f\"오류가 발생했습니다: {e}\")\n"
   ]
  },
  {
   "cell_type": "code",
   "execution_count": 5,
   "id": "a27b4bd2",
   "metadata": {},
   "outputs": [
    {
     "name": "stdout",
     "output_type": "stream",
     "text": [
      "오류가 발생했습니다.\n"
     ]
    }
   ],
   "source": [
    "# 기본적인 예외처리 구문(try-except)\n",
    "try:\n",
    "    result = 10/0\n",
    "except: \n",
    "    print(\"오류가 발생했습니다.\")"
   ]
  },
  {
   "cell_type": "code",
   "execution_count": 6,
   "id": "fc9abdde",
   "metadata": {},
   "outputs": [
    {
     "name": "stdout",
     "output_type": "stream",
     "text": [
      "0으로 나눌 수 없습니다.\n"
     ]
    }
   ],
   "source": [
    "# 특정 예외 처리하기\n",
    "try:\n",
    "    num = int(input(\"Enter number: \"))\n",
    "    result = 100/num\n",
    "    print(f'result:{result}')\n",
    "except ValueError:\n",
    "    #정수로 변환할 수 없는 입력을 받았을때\n",
    "    print(\"유효한 숫자를 입력해주세요.\")\n",
    "except ZeroDivisionError:\n",
    "    #0으로 나누려 했을때\n",
    "    print(\"0으로 나눌 수 없습니다.\")\n",
    "except:\n",
    "    print(\"알 수 없는 오류가 발생했습니다.\")"
   ]
  },
  {
   "cell_type": "code",
   "execution_count": 8,
   "id": "58367959",
   "metadata": {},
   "outputs": [
    {
     "name": "stdout",
     "output_type": "stream",
     "text": [
      "파일을 찾을 수 없습니다: [Errno 2] No such file or directory: 'data.txt'\n"
     ]
    }
   ],
   "source": [
    "#예외 객체 사용하기\n",
    "try: \n",
    "    with open(\"data.txt\",\"r\") as file:\n",
    "        content = file.read()\n",
    "except FileNotFoundError as e:\n",
    "    print(f\"파일을 찾을 수 없습니다: {e}\")"
   ]
  },
  {
   "cell_type": "code",
   "execution_count": 9,
   "id": "8dc99ae7",
   "metadata": {},
   "outputs": [
    {
     "name": "stdout",
     "output_type": "stream",
     "text": [
      "result:25.0\n"
     ]
    }
   ],
   "source": [
    "# else 구문\n",
    "try:\n",
    "    num = int(input(\"Enter number: \"))\n",
    "    result = 100/num\n",
    "except ValueError:\n",
    "    print(\"유효한 숫자를 입력해주세요.\")\n",
    "except ZeroDivisionError:\n",
    "    print(\"0으로 나눌 수 없습니다.\")\n",
    "else:\n",
    "    print(f\"result:{result}\")"
   ]
  },
  {
   "cell_type": "code",
   "execution_count": 12,
   "id": "a1d096a6",
   "metadata": {},
   "outputs": [
    {
     "name": "stdout",
     "output_type": "stream",
     "text": [
      "파일을 찾을 수 없습니다: [Errno 2] No such file or directory: 'data.txt'\n"
     ]
    },
    {
     "ename": "NameError",
     "evalue": "name 'file' is not defined",
     "output_type": "error",
     "traceback": [
      "\u001b[31m---------------------------------------------------------------------------\u001b[39m",
      "\u001b[31mNameError\u001b[39m                                 Traceback (most recent call last)",
      "\u001b[36mCell\u001b[39m\u001b[36m \u001b[39m\u001b[32mIn[12]\u001b[39m\u001b[32m, line 8\u001b[39m\n\u001b[32m      6\u001b[39m     \u001b[38;5;28mprint\u001b[39m(\u001b[33mf\u001b[39m\u001b[33m\"\u001b[39m\u001b[33m파일을 찾을 수 없습니다: \u001b[39m\u001b[38;5;132;01m{\u001b[39;00me\u001b[38;5;132;01m}\u001b[39;00m\u001b[33m\"\u001b[39m)\n\u001b[32m      7\u001b[39m \u001b[38;5;28;01mfinally\u001b[39;00m:\n\u001b[32m----> \u001b[39m\u001b[32m8\u001b[39m     \u001b[43mfile\u001b[49m.close()\n\u001b[32m      9\u001b[39m     \u001b[38;5;28mprint\u001b[39m(\u001b[33m\"\u001b[39m\u001b[33m파일 처리가 완료되었습니다.\u001b[39m\u001b[33m\"\u001b[39m)\n",
      "\u001b[31mNameError\u001b[39m: name 'file' is not defined"
     ]
    }
   ],
   "source": [
    "# finally 구문\n",
    "try: \n",
    "    file = open(\"data.txt\",\"r\")\n",
    "    content = file.read()\n",
    "except FileNotFoundError as e:\n",
    "    print(f\"파일을 찾을 수 없습니다: {e}\")\n",
    "finally:\n",
    "    file.close()\n",
    "    print(\"파일 처리가 완료되었습니다.\")"
   ]
  },
  {
   "cell_type": "code",
   "execution_count": 16,
   "id": "82460726",
   "metadata": {},
   "outputs": [
    {
     "name": "stdout",
     "output_type": "stream",
     "text": [
      "Progressing File...\n",
      "파일을 찾을 수 없습니다\n",
      "파일 처리가 완료되었습니다.\n"
     ]
    }
   ],
   "source": [
    "# 전체 구문 조합\n",
    "\n",
    "try: \n",
    "    print(\"Progressing File...\")\n",
    "    file = open(\"data.txt\",\"r\")\n",
    "    content = file.read()\n",
    "    value = int(content)\n",
    "    \n",
    "except FileNotFoundError as e:\n",
    "    print(f\"파일을 찾을 수 없습니다\")\n",
    "    \n",
    "except ValueError as e:\n",
    "    print(\"파일 내용을 숫자로 반환할 수 없습니다.\")\n",
    "\n",
    "else:\n",
    "    print(f\"파일에서 읽은 숫자: {value}\")\n",
    "    result = 100/value\n",
    "    print(f\"100 을 이 숫자로 나눈 결과: {result}\")\n",
    "    \n",
    "finally:\n",
    "    print(\"파일 처리가 완료되었습니다.\")\n",
    "    if 'file' in locals():\n",
    "        file.close()"
   ]
  },
  {
   "cell_type": "code",
   "execution_count": 28,
   "id": "cc0a460b",
   "metadata": {},
   "outputs": [
    {
     "name": "stdout",
     "output_type": "stream",
     "text": [
      "줄 3: 1.0는 숫자로 변환할 수 없습니다. 건너뜁니다.\n"
     ]
    },
    {
     "data": {
      "text/plain": [
       "289.0"
      ]
     },
     "execution_count": 28,
     "metadata": {},
     "output_type": "execute_result"
    }
   ],
   "source": [
    "# 일반적인 예외처리 상황들\n",
    "def read_and_sum():\n",
    "    try: \n",
    "        with open(\"/Users/apple/Documents/python/data.txt\",'r') as file:\n",
    "            lines = file.readlines()\n",
    "\n",
    "        total = 0\n",
    "        for i, line in enumerate(lines,1):\n",
    "            try: \n",
    "                value = float(line.strip())\n",
    "                total += value\n",
    "            except ValueError:\n",
    "                print(f\"줄 {i}: {value}는 숫자로 변환할 수 없습니다. 건너뜁니다.\")\n",
    "                \n",
    "        return total\n",
    "        \n",
    "    except FileNotFoundError:\n",
    "        print(\"파일을 찾을 수 없습니다.\")\n",
    "        return None\n",
    "    except PermissionError:\n",
    "        print(\"파일에 접근할 권한이 없습니다.\")\n",
    "        return None\n",
    "    except Exception as e:\n",
    "        print(f\"예상치 못한 오류가 발생했습니다:{e}\")\n",
    "        return None\n",
    "    \n",
    "read_and_sum()"
   ]
  },
  {
   "cell_type": "code",
   "execution_count": null,
   "id": "55defc0c",
   "metadata": {},
   "outputs": [
    {
     "name": "stdout",
     "output_type": "stream",
     "text": [
      "20\n",
      "10\n",
      "오류처리 : unsupported operand type(s) for *: 'NoneType' and 'int'\n"
     ]
    }
   ],
   "source": [
    "# logging\n",
    "\n",
    "import logging\n",
    "\n",
    "logging.basicConfig(\n",
    "    level = logging.DEBUG,\n",
    "    format = '%(asctime)s - %(name)s - %(levelname)s - %(message)s',\n",
    "    filename = 'app.log',\n",
    "    encoding = 'utf-8'\n",
    ")\n",
    "\n",
    "def process_data(data):\n",
    "    logging.debug(f\"Start data processing:{data}\")\n",
    "    \n",
    "    try:\n",
    "        if not isinstance(data,dict):\n",
    "            logging.warning(f\"딕셔너리가 아닌 데이터 수신: {type(data)}\")\n",
    "            data = {\"value\":  data}\n",
    "            \n",
    "        result = data.get(\"value\",0)*2\n",
    "        logging.info(f\"데이터 처리 결과: {result}\")\n",
    "\n",
    "        return result\n",
    "    \n",
    "    except Exception as e:\n",
    "        logging.error(f\"데이터 처리 중 오류 발생: {e}\", exc_info = True)\n",
    "        raise\n",
    "    \n",
    "try:xs\n",
    "    print(process_data({\"value\":10}))\n",
    "    print(process_data(5))\n",
    "    print(process_data(None))\n",
    "except Exception as e:\n",
    "    print(f\"오류처리 : {e}\")\n"
   ]
  },
  {
   "cell_type": "markdown",
   "id": "df167db2",
   "metadata": {},
   "source": [
    "## 함수형 프로그래밍"
   ]
  },
  {
   "cell_type": "code",
   "execution_count": 40,
   "id": "5273398d",
   "metadata": {},
   "outputs": [
    {
     "data": {
      "text/plain": [
       "24"
      ]
     },
     "execution_count": 40,
     "metadata": {},
     "output_type": "execute_result"
    }
   ],
   "source": [
    "# 커링 Currying\n",
    "\n",
    "def curry_mul(x):\n",
    "    def mul_y(y):\n",
    "        def mul_x(z):\n",
    "            return x*y*z\n",
    "        return mul_x\n",
    "    return mul_y\n",
    "\n",
    "curry_mul(2)(3)(4)"
   ]
  },
  {
   "cell_type": "code",
   "execution_count": null,
   "id": "cc3f673d",
   "metadata": {},
   "outputs": [
    {
     "name": "stdout",
     "output_type": "stream",
     "text": [
      "26\n"
     ]
    }
   ],
   "source": [
    "#  함수 합성\n",
    "# 수학의 합성함수 형태\n",
    "\n",
    "def compose(f,g):\n",
    "    return lambda x: f(g(x))\n",
    "\n",
    "def add_one(x): \n",
    "    return x +1\n",
    "\n",
    "def square(x):\n",
    "    return x*x\n",
    "\n",
    "sq_then_add_one = compose(add_one, square)\n",
    "print(sq_then_add_one(5))"
   ]
  },
  {
   "cell_type": "code",
   "execution_count": 50,
   "id": "e22e3e9c",
   "metadata": {},
   "outputs": [
    {
     "name": "stdout",
     "output_type": "stream",
     "text": [
      "16\n"
     ]
    }
   ],
   "source": [
    "from functools import partial\n",
    "\n",
    "def power(base, exponent, multiplier):\n",
    "    return base ** exponent * multiplier\n",
    "\n",
    "#첫번째와 세번째 인자 고정\n",
    "sq_and_db = partial(power,2, multiplier = 2)\n",
    "print(sq_and_db(3))"
   ]
  },
  {
   "cell_type": "code",
   "execution_count": 68,
   "id": "143e6687",
   "metadata": {},
   "outputs": [
    {
     "name": "stdout",
     "output_type": "stream",
     "text": [
      "로그인 처리: 사용자alice가 로그인했습니다.\n",
      "로그인 처리: email를alice@example.com로 변경했습니다.\n",
      "로그인 처리: 사용자alice가 로그아웃했습니다.\n",
      "처리되지 않은 이벤트 타입: UNKOWN\n"
     ]
    }
   ],
   "source": [
    "class Event: \n",
    "    def __init__(self, event_type, data):\n",
    "        self.type = event_type\n",
    "        self.data = data\n",
    "        \n",
    "def handler_user_login(event_data):\n",
    "    return f\"로그인 처리: 사용자{event_data[\"username\"]}가 로그인했습니다.\"\n",
    "\n",
    "def handler_user_logout(event_data):\n",
    "    return f\"로그인 처리: 사용자{event_data[\"username\"]}가 로그아웃했습니다.\"\n",
    "\n",
    "def handler_data_update(event_data):\n",
    "    return f\"로그인 처리: {event_data['field']}를{event_data[\"value\"]}로 변경했습니다.\"\n",
    "\n",
    "event_handlers = {\n",
    "    \"LOGIN\": handler_user_login,\n",
    "    \"LOGOUT\": handler_user_logout,\n",
    "    \"UPDATE\": handler_data_update\n",
    "}\n",
    "\n",
    "def process_event(event, handlers):\n",
    "    if event.type in event_handlers:\n",
    "        return handlers[event.type](event.data)\n",
    "    return f\"처리되지 않은 이벤트 타입: {event.type}\"\n",
    "\n",
    "events = [\n",
    "    Event(\"LOGIN\",{\"username\":\"alice\"}),\n",
    "    Event(\"UPDATE\",{\"field\":\"email\", \"value\": \"alice@example.com\"}),\n",
    "    Event(\"LOGOUT\",{\"username\":\"alice\"}),\n",
    "    Event(\"UNKOWN\",{\"data\":\"some data\"})\n",
    "    ]\n",
    "\n",
    "results = list(map(lambda event: process_event(event, event_handlers),events))\n",
    "for result in results:\n",
    "    print(result)"
   ]
  },
  {
   "cell_type": "code",
   "execution_count": null,
   "id": "463260a1",
   "metadata": {},
   "outputs": [],
   "source": []
  }
 ],
 "metadata": {
  "kernelspec": {
   "display_name": "3.12.11",
   "language": "python",
   "name": "python3"
  },
  "language_info": {
   "codemirror_mode": {
    "name": "ipython",
    "version": 3
   },
   "file_extension": ".py",
   "mimetype": "text/x-python",
   "name": "python",
   "nbconvert_exporter": "python",
   "pygments_lexer": "ipython3",
   "version": "3.12.11"
  }
 },
 "nbformat": 4,
 "nbformat_minor": 5
}
