{
 "cells": [
  {
   "cell_type": "markdown",
   "id": "f79659c6",
   "metadata": {},
   "source": [
    "-  logging 라이브러리 import 로깅 파일 만들기\n",
    "-  파일 불러오기(with 구문 사용)-> 존재 여부 검사 -> 형식 검사 -> 권한 검사\n",
    "-  예외 계층 구조 else-> 파일 내용 print/ finally -> file.close() \n"
   ]
  },
  {
   "cell_type": "code",
   "execution_count": 55,
   "id": "4d393a71",
   "metadata": {},
   "outputs": [],
   "source": [
    "import logging\n",
    "\n",
    "logging.basicConfig(\n",
    "    level = logging.DEBUG,\n",
    "    format = '%(asctime)s - %(name)s - %(levelname)s - %(message)s',\n",
    "    filename = 'app.log',\n",
    "    encoding = 'utf-8'\n",
    ")\n",
    "\n",
    "def fileChecker(filename):\n",
    "    logging.debug(f\"Start data processing: {filename}\")\n",
    "    try:\n",
    "        # 파일 불러오기\n",
    "        path = \"/Users/apple/Documents/python/August/26th/hw_26/\"\n",
    "        with open(path+filename,\"r\" ,encoding = \"utf-8\") as file:\n",
    "            content = file.read()\n",
    "         # 예외 처리   \n",
    "    except FileNotFoundError: \n",
    "        print(\"파일을 찾을 수 없습니다.\")\n",
    "        logging.error(\"파일을 찾을 수 없습니다.\")\n",
    "    except PermissionError:\n",
    "        print(\"파일에 대한 접근 권한이 없습니다.\")\n",
    "        logging.error(\"파일에 대한 접근 권한이 없습니다.\")\n",
    "    except UnicodeDecodeError:\n",
    "        print(\"텍스트 파일 인코딩이 올바르지 않습니다.\")\n",
    "        logging.error(\"텍스트 파일 인코딩이 올바르지 않습니다.\")\n",
    "    except TypeError:\n",
    "        print(\"데이터 타입이 올바르지 않습니다.\")\n",
    "        logging.error(\"데이터 타입이 올바르지 않습니다.\")\n",
    "    except Exception as e:\n",
    "        print(f\"오류가 발생했습니다: {e}\")\n",
    "        logging.error(f\"데이터 처리 중 오류가 발생하였습니다: {e}\",exc_info = True)\n",
    "        \n",
    "    else:\n",
    "        print(content)\n",
    "        \n",
    "        # 파일 닫음\n",
    "    finally:\n",
    "        print(\"파일 처리가 완료되었습니다.\")\n",
    "        if 'file' in locals():\n",
    "            file.close()"
   ]
  },
  {
   "cell_type": "code",
   "execution_count": 60,
   "id": "d4c7229e",
   "metadata": {},
   "outputs": [
    {
     "name": "stdout",
     "output_type": "stream",
     "text": [
      "파일을 찾을 수 없습니다.\n",
      "파일 처리가 완료되었습니다.\n",
      "None\n",
      "파일에 대한 접근 권한이 없습니다.\n",
      "파일 처리가 완료되었습니다.\n",
      "None\n",
      "텍스트 파일 인코딩이 올바르지 않습니다.\n",
      "파일 처리가 완료되었습니다.\n",
      "None\n"
     ]
    }
   ],
   "source": [
    "print(fileChecker(\"ex.excel\")) # 파일이 존재하지 않는 경우\n",
    "print(fileChecker(\"ex.bin\")) # 권한이 없는 경우\n",
    "print(fileChecker(\"euc_kr_example.txt\"))\n"
   ]
  },
  {
   "cell_type": "code",
   "execution_count": null,
   "id": "25885a56",
   "metadata": {},
   "outputs": [],
   "source": []
  }
 ],
 "metadata": {
  "kernelspec": {
   "display_name": "3.12.11",
   "language": "python",
   "name": "python3"
  },
  "language_info": {
   "codemirror_mode": {
    "name": "ipython",
    "version": 3
   },
   "file_extension": ".py",
   "mimetype": "text/x-python",
   "name": "python",
   "nbconvert_exporter": "python",
   "pygments_lexer": "ipython3",
   "version": "3.12.11"
  }
 },
 "nbformat": 4,
 "nbformat_minor": 5
}
