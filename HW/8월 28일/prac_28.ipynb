{
 "cells": [
  {
   "cell_type": "markdown",
   "id": "7bbb97af",
   "metadata": {},
   "source": [
    "## Numpy"
   ]
  },
  {
   "cell_type": "code",
   "execution_count": 11,
   "id": "62c4fee6",
   "metadata": {},
   "outputs": [
    {
     "name": "stdout",
     "output_type": "stream",
     "text": [
      "2.3.2\n",
      "arr1\n",
      "[1 2 3 4 5]\n",
      "\n",
      "arr2\n",
      "[[1 2 3]\n",
      " [4 5 6]]\n"
     ]
    }
   ],
   "source": [
    "\n",
    "import numpy as np\n",
    "print(np.__version__)\n",
    "\n",
    "# 1차원 배열\n",
    "arr1 = np.array([1,2,3,4,5])\n",
    "print(\"arr1\")\n",
    "print(f\"{arr1}\\n\")\n",
    "\n",
    "# 2차원 배열(행렬)\n",
    "print(\"arr2\")\n",
    "arr2 = np.array([[1,2,3],\n",
    "                [4,5,6]])\n",
    "print(arr2)\n"
   ]
  },
  {
   "cell_type": "code",
   "execution_count": 2,
   "id": "b614286c",
   "metadata": {},
   "outputs": [
    {
     "name": "stdout",
     "output_type": "stream",
     "text": [
      "[[0. 0. 0. 0.]\n",
      " [0. 0. 0. 0.]\n",
      " [0. 0. 0. 0.]]\n",
      "[[1. 1. 1.]\n",
      " [1. 1. 1.]]\n",
      "[0 2 4 6 8]\n",
      "[0.   0.25 0.5  0.75 1.  ]\n",
      "[[0.63396849 0.46067516 0.41167875]\n",
      " [0.13986949 0.78662749 0.86141006]]\n"
     ]
    }
   ],
   "source": [
    "# 0으로 채워진 배열\n",
    "zeros = np.zeros((3,4))\n",
    "print(zeros)\n",
    "\n",
    "# 1로 채워진 배열\n",
    "ones = np.ones((2,3))\n",
    "print(ones)\n",
    "# 특정 범위의 균일한 간격 배열\n",
    "range_arr = np.arange(0,10,2)\n",
    "print(range_arr)\n",
    "\n",
    "# 선형 간격 배열\n",
    "linear_space = np.linspace(0,1,5)\n",
    "print(linear_space)\n",
    "\n",
    "# 랜덤 배열\n",
    "random_arr = np.random.random((2,3))\n",
    "print(random_arr)\n",
    "arr = np.array([[1,2,3],[4,5,6]])"
   ]
  },
  {
   "cell_type": "code",
   "execution_count": 3,
   "id": "cd2ba67c",
   "metadata": {},
   "outputs": [
    {
     "name": "stdout",
     "output_type": "stream",
     "text": [
      "배열 차원: 2\n",
      "배열 형태: (2, 3)\n",
      "배열 크기: 6\n",
      "요소 데이터 타입: int64\n",
      "각 요소 바이트 크기: 8\n",
      "전체 배열 바이트 크기: 48\n",
      "원본 배열:\n",
      "[[1 2 3]\n",
      " [4 5 6]]\n",
      "전치 배열 (T):\n",
      "[[1 4]\n",
      " [2 5]\n",
      " [3 6]]\n",
      "변경 결과:\n",
      "[[ 0  1  2  3]\n",
      " [ 4  5  6  7]\n",
      " [ 8  9 10 11]]\n",
      "평탄화 결과 (flatten)\n",
      "[ 0  1  2  3  4  5  6  7  8  9 10 11]\n",
      "\n",
      "\n",
      "타입 변환 후:float64\n"
     ]
    }
   ],
   "source": [
    "# 주요 속성 \n",
    "print(f\"배열 차원: {arr.ndim}\")\n",
    "print(f'배열 형태: {arr.shape}')\n",
    "print(f\"배열 크기: {arr.size}\")\n",
    "print(f\"요소 데이터 타입: {arr.dtype}\")\n",
    "print(f\"각 요소 바이트 크기: {arr.itemsize}\")\n",
    "print(f\"전체 배열 바이트 크기: {arr.nbytes}\")\n",
    "# 전치(행과 열 바꾸기)\n",
    "print(\"원본 배열:\")\n",
    "print(arr)\n",
    "print(\"전치 배열 (T):\")\n",
    "print(arr.T)\n",
    "\n",
    "# 배열 형태 변경 (reshape)\n",
    "arr1d = np.arange(12)\n",
    "arr2d = arr1d.reshape(3,4)\n",
    "print(\"변경 결과:\")\n",
    "print(arr2d)\n",
    "# 배열 평탄화(1차원으로 변환)\n",
    "print(\"평탄화 결과 (flatten)\")\n",
    "print(arr2d.flatten())\n",
    "\n",
    "# 데이터 타입 변환\n",
    "print(\"\\n\")\n",
    "arr_float = arr.astype(np.float64)\n",
    "print(f\"타입 변환 후:{arr_float.dtype}\")"
   ]
  },
  {
   "cell_type": "code",
   "execution_count": 4,
   "id": "cd3f6f3a",
   "metadata": {},
   "outputs": [
    {
     "name": "stdout",
     "output_type": "stream",
     "text": [
      "\n",
      "\n",
      "sum:15\n",
      "mean:3.0\n",
      "min:1\n",
      "max:5\n",
      "std:1.4142135623730951\n",
      "var:2.0\n",
      "cumsum:[ 1  3  6 10 15]\n",
      "짝수 요소만 선택\n",
      "[2 4]\n"
     ]
    }
   ],
   "source": [
    "#통계 메서드\n",
    "print('\\n')\n",
    "data = np.array([1,2,3,4,5])\n",
    "print(f\"sum:{data.sum()}\")\n",
    "print(f\"mean:{data.mean()}\")\n",
    "print(f\"min:{data.min()}\")\n",
    "print(f\"max:{data.max()}\")\n",
    "print(f\"std:{data.std()}\")\n",
    "print(f\"var:{data.var()}\")\n",
    "print(f\"cumsum:{data.cumsum()}\")\n",
    "# 조건 기반 인덱싱\n",
    "arr = np.array([1,2,3,4,5])\n",
    "print(\"짝수 요소만 선택\")\n",
    "print(arr[arr%2 ==0])"
   ]
  },
  {
   "cell_type": "code",
   "execution_count": 5,
   "id": "73f2dd4c",
   "metadata": {},
   "outputs": [
    {
     "name": "stdout",
     "output_type": "stream",
     "text": [
      "행렬 곱셈 (dot)\n",
      "[[19 22]\n",
      " [43 50]]\n",
      "\n",
      "요소별 곱셈\n",
      "[[ 5 12]\n",
      " [21 32]]\n",
      "10\n",
      "50\n",
      "--------\n",
      "1\n",
      "6\n",
      "9\n"
     ]
    }
   ],
   "source": [
    "# 배열 연산 메서드(행렬곱)\n",
    "a = np.array([[1,2],\n",
    "              [3,4]])\n",
    "b = np.array([[5,6],\n",
    "              [7,8]])\n",
    "print(\"행렬 곱셈 (dot)\")\n",
    "print(a.dot(b))\n",
    "\n",
    "print(\"\\n요소별 곱셈\")\n",
    "print(a*b)\n",
    "# 1차원 배열 인덱싱\n",
    "arr = np.array([10,20,30,40,50])\n",
    "print(arr[0])\n",
    "print(arr[-1])\n",
    "print(\"--------\")\n",
    "# 2차원 배열 인덱싱\n",
    "arr2d = np.array([[1,2,3],\n",
    "                  [4,5,6],\n",
    "                  [7,8,9]])\n",
    "print(arr2d[0,0])\n",
    "print(arr2d[1,2])\n",
    "print(arr2d[2,-1])"
   ]
  },
  {
   "cell_type": "code",
   "execution_count": 6,
   "id": "5182b047",
   "metadata": {},
   "outputs": [
    {
     "name": "stdout",
     "output_type": "stream",
     "text": [
      "[20 30 40]\n",
      "[10 20 30]\n",
      "[40 50 60]\n",
      "[10 30 50]\n",
      "[[2 3]\n",
      " [6 7]]\n",
      "==========\n",
      "[[ 5  6]\n",
      " [ 9 10]]\n",
      "[11 12 13 14 15]\n",
      "\n",
      "\n",
      "[[11 12 13]\n",
      " [24 25 26]]\n"
     ]
    }
   ],
   "source": [
    "# 배열 슬라이싱\n",
    "\n",
    "# 1차원 배열 슬라이싱\n",
    "arr = np.array([10,20,30,40,50,60])\n",
    "print(arr[1:4])\n",
    "print(arr[:3])\n",
    "print(arr[3:])\n",
    "print(arr[::2])\n",
    "arr2d = np.array([[1,2,3,4],\n",
    "                  [5,6,7,8],\n",
    "                  [9,10,11,12]])\n",
    "print(arr2d[:2,1:3])\n",
    "print(\"=\"*10)\n",
    "print(arr2d[1:,:2])\n",
    "\n",
    "# Numpy 브로드캐스팅\n",
    "arr = np.array([1,2,3,4,5])\n",
    "print(arr+10)\n",
    "print(\"\\n\")\n",
    "a = np.array([[1,2,3],[4,5,6]])\n",
    "b = np.array([[10],[20]])\n",
    "             \n",
    "print(a+b)"
   ]
  },
  {
   "cell_type": "code",
   "execution_count": 7,
   "id": "66c41d98",
   "metadata": {},
   "outputs": [
    {
     "name": "stdout",
     "output_type": "stream",
     "text": [
      "[[ 0  1  2  3]\n",
      " [ 4  5  6  7]\n",
      " [ 8  9 10 11]]\n",
      "\n",
      "\n",
      "[[ 0  1  2  3]\n",
      " [ 4  5  6  7]\n",
      " [ 8  9 10 11]]\n",
      "[[1 2]\n",
      " [3 4]\n",
      " [5 6]\n",
      " [7 8]]\n",
      "[[1 2 5 6]\n",
      " [3 4 7 8]]\n",
      "[[1 2]\n",
      " [3 4]\n",
      " [5 6]\n",
      " [7 8]]\n",
      "[[1 2 5 6]\n",
      " [3 4 7 8]]\n",
      "[[ 0  1  2  3]\n",
      " [ 4  5  6  7]\n",
      " [ 8  9 10 11]]\n",
      "분할0 [[0 1 2 3]]\n",
      "분할1 [[4 5 6 7]]\n",
      "분할2 [[ 8  9 10 11]]\n",
      "분할0 [[0 1]\n",
      " [4 5]\n",
      " [8 9]]\n",
      "분할1 [[ 2  3]\n",
      " [ 6  7]\n",
      " [10 11]]\n",
      "[ True False  True  True  True  True  True  True  True]\n",
      "[23 45 56 23 45 44 78 55]\n"
     ]
    }
   ],
   "source": [
    "# 배열 형태 변경 \n",
    "arr = np.arange(12)\n",
    "reshaped2 = arr.reshape(3,4)\n",
    "print(reshaped2)\n",
    "print(\"\\n\")\n",
    "reshaped3 = arr.reshape(3,-1)\n",
    "print(reshaped3)\n",
    "a = np.array([[1,2],\n",
    "              [3,4]])\n",
    "b = np.array([[5,6],\n",
    "              [7,8]])\n",
    "\n",
    "vertical = np.concatenate([a,b],axis = 0)\n",
    "print(vertical)\n",
    "\n",
    "horizontal = np.concatenate([a,b], axis = 1)\n",
    "print(horizontal)\n",
    "\n",
    "v_stack = np.vstack([a,b])\n",
    "h_stack = np.hstack([a,b])\n",
    "print(v_stack)\n",
    "print(h_stack)\n",
    "\n",
    "arr = np.arange(12).reshape(3,4)\n",
    "print(f\"{arr}\")\n",
    "\n",
    "#수평 분할 (행 기준)\n",
    "h_split = np.split(arr, 3, axis = 0)\n",
    "for i, split_arr in enumerate(h_split):\n",
    "    print(f\"분할{i}\",split_arr)\n",
    "    \n",
    "#수직 분할 (열 기준)\n",
    "v_split = np.split(arr, 2, axis = 1)\n",
    "for i, split_arr in enumerate(v_split):\n",
    "    print(f\"분할{i}\",split_arr)\n",
    "# Numpy 응용 (데이터 필터링)\n",
    "ages = np.array([23,13,45,56,23,45,44,78,55])\n",
    "\n",
    "adult_filter = ages >18\n",
    "print(adult_filter)\n",
    "\n",
    "adults = ages[adult_filter]\n",
    "print(adults)"
   ]
  },
  {
   "cell_type": "code",
   "execution_count": 9,
   "id": "c4388745",
   "metadata": {},
   "outputs": [
    {
     "name": "stdout",
     "output_type": "stream",
     "text": [
      "[23 23]\n",
      "[10  5 10 10 10 10 10  8 10]\n"
     ]
    }
   ],
   "source": [
    "# 조건부 필터링 (한 줄로 작성)\n",
    "young_filter = ages[(ages > 18) & (ages <=30)]\n",
    "print(young_filter)\n",
    "# 상황별 값 할당 (조건부 변경)\n",
    "ticket_prices = np.zeros_like(ages)\n",
    "\n",
    "# 나이에 따른 티켓 가격 할당\n",
    "ticket_prices[ages < 18] = 5\n",
    "ticket_prices[(ages >= 18) & (ages <= 59)] = 10\n",
    "ticket_prices[ages >= 60] = 8\n",
    "print(ticket_prices)"
   ]
  },
  {
   "cell_type": "code",
   "execution_count": 10,
   "id": "13ffc2cc",
   "metadata": {},
   "outputs": [],
   "source": [
    "# 이미지 필터링"
   ]
  },
  {
   "cell_type": "markdown",
   "id": "1eb1b49e",
   "metadata": {},
   "source": [
    "## Pandas"
   ]
  },
  {
   "cell_type": "code",
   "execution_count": 4,
   "id": "7b7457aa",
   "metadata": {},
   "outputs": [
    {
     "name": "stdout",
     "output_type": "stream",
     "text": [
      "Collecting pandas\n",
      "  Using cached pandas-2.3.2-cp312-cp312-macosx_11_0_arm64.whl.metadata (91 kB)\n",
      "Collecting numpy>=1.26.0 (from pandas)\n",
      "  Using cached numpy-2.3.2-cp312-cp312-macosx_14_0_arm64.whl.metadata (62 kB)\n",
      "Requirement already satisfied: python-dateutil>=2.8.2 in /Users/apple/.pyenv/versions/3.12.11/lib/python3.12/site-packages (from pandas) (2.9.0.post0)\n",
      "Collecting pytz>=2020.1 (from pandas)\n",
      "  Using cached pytz-2025.2-py2.py3-none-any.whl.metadata (22 kB)\n",
      "Collecting tzdata>=2022.7 (from pandas)\n",
      "  Using cached tzdata-2025.2-py2.py3-none-any.whl.metadata (1.4 kB)\n",
      "Requirement already satisfied: six>=1.5 in /Users/apple/.pyenv/versions/3.12.11/lib/python3.12/site-packages (from python-dateutil>=2.8.2->pandas) (1.17.0)\n",
      "Using cached pandas-2.3.2-cp312-cp312-macosx_11_0_arm64.whl (10.7 MB)\n",
      "Using cached numpy-2.3.2-cp312-cp312-macosx_14_0_arm64.whl (5.1 MB)\n",
      "Using cached pytz-2025.2-py2.py3-none-any.whl (509 kB)\n",
      "Using cached tzdata-2025.2-py2.py3-none-any.whl (347 kB)\n",
      "Installing collected packages: pytz, tzdata, numpy, pandas\n",
      "Successfully installed numpy-2.3.2 pandas-2.3.2 pytz-2025.2 tzdata-2025.2\n",
      "\n",
      "\u001b[1m[\u001b[0m\u001b[34;49mnotice\u001b[0m\u001b[1;39;49m]\u001b[0m\u001b[39;49m A new release of pip is available: \u001b[0m\u001b[31;49m25.0.1\u001b[0m\u001b[39;49m -> \u001b[0m\u001b[32;49m25.2\u001b[0m\n",
      "\u001b[1m[\u001b[0m\u001b[34;49mnotice\u001b[0m\u001b[1;39;49m]\u001b[0m\u001b[39;49m To update, run: \u001b[0m\u001b[32;49mpip install --upgrade pip\u001b[0m\n",
      "Note: you may need to restart the kernel to use updated packages.\n"
     ]
    }
   ],
   "source": [
    "pip install pandas"
   ]
  },
  {
   "cell_type": "code",
   "execution_count": 5,
   "id": "98cfebb4",
   "metadata": {},
   "outputs": [
    {
     "name": "stdout",
     "output_type": "stream",
     "text": [
      "2.3.2\n",
      "0    1\n",
      "1    3\n",
      "2    5\n",
      "3    7\n",
      "4    9\n",
      "dtype: int64\n",
      "a    10\n",
      "b    20\n",
      "c    30\n",
      "d    40\n",
      "dtype: int64\n",
      "Seoul      97774\n",
      "Busan       3456\n",
      "Incheon    29345\n",
      "Daegu       2456\n",
      "dtype: int64\n"
     ]
    }
   ],
   "source": [
    "import pandas as pd\n",
    "print(pd.__version__)\n",
    "# 기본 시리즈 생성\n",
    "s = pd.Series([1,3,5,7,9])\n",
    "print(s)\n",
    "# 인덱스를 지정하여 시리즈 생성\n",
    "s2 = pd.Series([10,20,30,40], index = ['a','b','c','d'])\n",
    "print(s2)\n",
    "# 딕셔너리로 시리즈 생성\n",
    "population = {\n",
    "    'Seoul':97774,\n",
    "    'Busan': 3456,\n",
    "    'Incheon' : 29345,\n",
    "    'Daegu' : 2456\n",
    "}\n",
    "\n",
    "pop_series = pd.Series(population)\n",
    "print(pop_series)"
   ]
  },
  {
   "cell_type": "code",
   "execution_count": 14,
   "id": "5fcd438c",
   "metadata": {},
   "outputs": [
    {
     "name": "stdout",
     "output_type": "stream",
     "text": [
      "값 배열: [10 20 30 40 50]\n",
      "인덱스: Index(['a', 'b', 'c', 'd', 'e'], dtype='object')\n",
      "평균: 30.0\n",
      "합계 150\n",
      "최소값 10\n",
      "최대값 50\n"
     ]
    }
   ],
   "source": [
    "# 시리즈 생성 및 메소드\n",
    "s = pd.Series([10,20,30,40,50,], index = ['a','b','c','d','e'])\n",
    "\n",
    "# 기본 속성\n",
    "print(\"값 배열:\", s.values)\n",
    "print(\"인덱스:\", s.index)\n",
    "\n",
    "# 기본 통계 메서드\n",
    "print(\"평균:\", s.mean())\n",
    "print(\"합계\", s.sum())\n",
    "print(\"최소값\",s.min() )\n",
    "print(\"최대값\", s.max())"
   ]
  },
  {
   "cell_type": "code",
   "execution_count": null,
   "id": "4e0c1d52",
   "metadata": {},
   "outputs": [],
   "source": [
    "# 데이터 접근\n",
    "print(\"'c'인덱스의 값:\", s['c'])\n",
    "print(\"여러 인덱스의 값:\", s[['a','c','e']])\n",
    "# 조건부 필터링\n",
    "print(\"30보다 큰 값\" ,s[s>30])\n",
    "\n",
    "# 데이터 변환\n",
    "print(\"제곱근:\", s.apply(np.sqrt))\n",
    "print(\"2배 값:\", s * 2)\n",
    "print(\"제곱 값:\", s ** 2)\n",
    "# 결측치 확인 및 처리\n",
    "s2 = pd.Series([10,np.nan, 30, np.nan, 50], index = ['a','b','c','d','e'])\n",
    "print(\"결측치 여부:\", s2.isna())\n",
    "print(\"결측치 제거:\", s2.dropna())\n",
    "print(\"결측치 으로 채우기\", s2.fillna(0))\n",
    "\n"
   ]
  },
  {
   "cell_type": "markdown",
   "id": "e2ac8e9b",
   "metadata": {},
   "source": [
    "### 1. DataFrame"
   ]
  },
  {
   "cell_type": "code",
   "execution_count": 15,
   "id": "61e14ccf",
   "metadata": {},
   "outputs": [
    {
     "name": "stdout",
     "output_type": "stream",
     "text": [
      "    Name  age    City  Salary\n",
      "0   jhon   28      NY  500000\n",
      "1   anna   34   Paris  300000\n",
      "2  peter   35  Berlin   20000\n",
      "3  linda   32  London   60000\n",
      "4    bob   45   Tokyo   10000\n"
     ]
    }
   ],
   "source": [
    "\n",
    "# 데이터 프레임 생성 및 메서드\n",
    "\n",
    "data = {\n",
    "    'Name': ['jhon','anna','peter','linda', 'bob'],\n",
    "    'age' : [28, 34, 35, 32, 45],\n",
    "    'City': ['NY','Paris','Berlin','London','Tokyo'],\n",
    "    'Salary':[500000,300000,20000,60000,10000]\n",
    "        }\n",
    "df = pd.DataFrame(data)\n",
    "print(df)"
   ]
  },
  {
   "cell_type": "code",
   "execution_count": 18,
   "id": "0e0577ae",
   "metadata": {},
   "outputs": [
    {
     "name": "stdout",
     "output_type": "stream",
     "text": [
      "(5, 4)\n",
      "Index(['Name', 'age', 'City', 'Salary'], dtype='object')\n",
      "RangeIndex(start=0, stop=5, step=1)\n",
      "Name      object\n",
      "age        int64\n",
      "City      object\n",
      "Salary     int64\n",
      "dtype: object\n"
     ]
    }
   ],
   "source": [
    "print(df.shape) # 행, 열 크기\n",
    "print(df.columns) # 열 이름\n",
    "print(df.index) # 행 인덱스\n",
    "print(df.dtypes) # 데이터 타입"
   ]
  },
  {
   "cell_type": "code",
   "execution_count": 19,
   "id": "e05ec41b",
   "metadata": {},
   "outputs": [
    {
     "name": "stdout",
     "output_type": "stream",
     "text": [
      "   Name  age   City  Salary\n",
      "0  jhon   28     NY  500000\n",
      "1  anna   34  Paris  300000\n",
      "    Name  age    City  Salary\n",
      "3  linda   32  London   60000\n",
      "4    bob   45   Tokyo   10000\n",
      "             age         Salary\n",
      "count   5.000000       5.000000\n",
      "mean   34.800000  178000.000000\n",
      "std     6.300794  215453.011118\n",
      "min    28.000000   10000.000000\n",
      "25%    32.000000   20000.000000\n",
      "50%    34.000000   60000.000000\n",
      "75%    35.000000  300000.000000\n",
      "max    45.000000  500000.000000\n"
     ]
    }
   ],
   "source": [
    "# 데이터 확인\n",
    "print(df.head(2))\n",
    "print(df.tail(2))\n",
    "print(df.describe())"
   ]
  },
  {
   "cell_type": "code",
   "execution_count": 24,
   "id": "379666b5",
   "metadata": {},
   "outputs": [
    {
     "name": "stdout",
     "output_type": "stream",
     "text": [
      "0    28\n",
      "1    34\n",
      "2    35\n",
      "3    32\n",
      "4    45\n",
      "Name: age, dtype: int64\n",
      "    Name  Salary\n",
      "0   jhon  500000\n",
      "1   anna  300000\n",
      "2  peter   20000\n",
      "3  linda   60000\n",
      "4    bob   10000\n",
      "    Name  age    City  Salary\n",
      "0   jhon   28      NY  500000\n",
      "1   anna   34   Paris  300000\n",
      "2  peter   35  Berlin   20000\n",
      "    Name  age    City  Salary\n",
      "1   anna   34   Paris  300000\n",
      "2  peter   35  Berlin   20000\n",
      "3  linda   32  London   60000\n",
      "4    bob   45   Tokyo   10000\n"
     ]
    }
   ],
   "source": [
    "# 데이터 접근\n",
    "print(df['age'])\n",
    "print(df[['Name','Salary']])\n",
    "print(df.iloc[0:3])\n",
    "print(df[df['age']>=30])"
   ]
  },
  {
   "cell_type": "markdown",
   "id": "b550d65a",
   "metadata": {},
   "source": [
    "### 2. Group By"
   ]
  },
  {
   "cell_type": "code",
   "execution_count": 8,
   "id": "00ed430f",
   "metadata": {},
   "outputs": [
    {
     "name": "stdout",
     "output_type": "stream",
     "text": [
      "부서별 평균 급여:\n"
     ]
    },
    {
     "data": {
      "text/plain": [
       "Department\n",
       "Finance    90000.000000\n",
       "HR         62500.000000\n",
       "IT         77666.666667\n",
       "Name: Salary, dtype: float64"
      ]
     },
     "execution_count": 8,
     "metadata": {},
     "output_type": "execute_result"
    }
   ],
   "source": [
    "\n",
    "df = pd.DataFrame({\n",
    "    'Department': ['IT', 'HR', 'IT', 'Finance', 'HR', 'IT'],\n",
    "    'Employee': ['Alice', 'Bob', 'Charlie', 'David', 'Eve', 'Frank'],\n",
    "    'Salary': [75000, 65000, 80000, 90000, 60000, 78000],\n",
    "    'Age': [28, 35, 32, 45, 30, 29],\n",
    "    'Year': [2021, 2022, 2021, 2022, 2021, 2022]\n",
    "})\n",
    "\n",
    "# 기본 groupby 연산\n",
    "dept_groups = df.groupby('Department')\n",
    "print(\"부서별 평균 급여:\")\n",
    "dept_groups['Salary'].mean()\n"
   ]
  },
  {
   "cell_type": "code",
   "execution_count": 9,
   "id": "6c54371d",
   "metadata": {},
   "outputs": [
    {
     "name": "stdout",
     "output_type": "stream",
     "text": [
      "\n",
      "연도별, 부서별 평균 급여:\n",
      "Year  Department\n",
      "2021  HR            60000.0\n",
      "      IT            77500.0\n",
      "2022  Finance       90000.0\n",
      "      HR            65000.0\n",
      "      IT            78000.0\n",
      "Name: Salary, dtype: float64\n"
     ]
    }
   ],
   "source": [
    "year_dept_groups = df.groupby(['Year','Department'])\n",
    "print(\"\\n연도별, 부서별 평균 급여:\")\n",
    "print(year_dept_groups['Salary'].mean())"
   ]
  },
  {
   "cell_type": "code",
   "execution_count": 10,
   "id": "b882279d",
   "metadata": {},
   "outputs": [
    {
     "name": "stdout",
     "output_type": "stream",
     "text": [
      "\n",
      "부서별 급여 통계 요약:\n",
      "            count          mean          std      min      25%      50%  \\\n",
      "Department                                                                \n",
      "Finance       1.0  90000.000000          NaN  90000.0  90000.0  90000.0   \n",
      "HR            2.0  62500.000000  3535.533906  60000.0  61250.0  62500.0   \n",
      "IT            3.0  77666.666667  2516.611478  75000.0  76500.0  78000.0   \n",
      "\n",
      "                75%      max  \n",
      "Department                    \n",
      "Finance     90000.0  90000.0  \n",
      "HR          63750.0  65000.0  \n",
      "IT          79000.0  80000.0  \n"
     ]
    }
   ],
   "source": [
    "print(\"\\n부서별 급여 통계 요약:\")\n",
    "print(dept_groups['Salary'].describe())"
   ]
  },
  {
   "cell_type": "code",
   "execution_count": 11,
   "id": "99f89a66",
   "metadata": {},
   "outputs": [
    {
     "name": "stdout",
     "output_type": "stream",
     "text": [
      "\n",
      "IT 부서 직원:\n",
      "  Department Employee  Salary  Age  Year\n",
      "0         IT    Alice   75000   28  2021\n",
      "2         IT  Charlie   80000   32  2021\n",
      "5         IT    Frank   78000   29  2022\n"
     ]
    }
   ],
   "source": [
    "# get_group 메소드 - 특정 그룹 선택\n",
    "print(\"\\nIT 부서 직원:\")\n",
    "print(dept_groups.get_group('IT'))"
   ]
  },
  {
   "cell_type": "code",
   "execution_count": 23,
   "id": "af347aa3",
   "metadata": {},
   "outputs": [
    {
     "name": "stdout",
     "output_type": "stream",
     "text": [
      "\n",
      "월별 평균 급여:\n",
      "Date\n",
      "1    75000.0\n",
      "2    65000.0\n",
      "3    80000.0\n",
      "4    90000.0\n",
      "5    60000.0\n",
      "6    78000.0\n",
      "Name: Salary, dtype: float64\n",
      "\n",
      "분기별 평균 급여:\n",
      "Date\n",
      "1    73333.333333\n",
      "2    76000.000000\n",
      "Name: Salary, dtype: float64\n"
     ]
    },
    {
     "name": "stderr",
     "output_type": "stream",
     "text": [
      "/var/folders/hs/81ncphtd2yzggndhp3qhjq400000gn/T/ipykernel_2064/841558530.py:3: FutureWarning: 'M' is deprecated and will be removed in a future version, please use 'ME' instead.\n",
      "  df['Date'] = pd.date_range(start = '2022-01-01', periods = len(df), freq = 'M')\n"
     ]
    }
   ],
   "source": [
    "# Group by 고급\n",
    "# 1. 시간 기반 그룹화(월별, 분기별, 년도별)\n",
    "df['Date'] = pd.date_range(start = '2022-01-01', periods = len(df), freq = 'M')\n",
    "print(\"\\n월별 평균 급여:\")\n",
    "print(df.groupby(df['Date'].dt.month)['Salary'].mean())\n",
    "\n",
    "print(\"\\n분기별 평균 급여:\")\n",
    "print(df.groupby(df['Date'].dt.quarter)['Salary'].mean())"
   ]
  },
  {
   "cell_type": "code",
   "execution_count": 27,
   "id": "e35cbdbd",
   "metadata": {},
   "outputs": [
    {
     "name": "stdout",
     "output_type": "stream",
     "text": [
      "\n",
      "연령대별 평균 급여\n",
      "Age_group\n",
      "20대    71000.0\n",
      "30대    72500.0\n",
      "40대    90000.0\n",
      "Name: Salary, dtype: float64\n"
     ]
    },
    {
     "name": "stderr",
     "output_type": "stream",
     "text": [
      "/var/folders/hs/81ncphtd2yzggndhp3qhjq400000gn/T/ipykernel_2064/1750282062.py:4: FutureWarning: The default of observed=False is deprecated and will be changed to True in a future version of pandas. Pass observed=False to retain current behavior or observed=True to adopt the future default and silence this warning.\n",
      "  print(df.groupby('Age_group')['Salary'].mean())\n"
     ]
    }
   ],
   "source": [
    "# 2. 연속 변수의 범주화 후 그룹화 (구간별 그룹)\n",
    "df['Age_group'] = pd.cut(df['Age'], bins = [20,30,40,50], labels = ['20대','30대','40대'])\n",
    "print(\"\\n연령대별 평균 급여\")\n",
    "print(df.groupby('Age_group')['Salary'].mean())\n"
   ]
  },
  {
   "cell_type": "code",
   "execution_count": 34,
   "id": "448094db",
   "metadata": {},
   "outputs": [
    {
     "name": "stdout",
     "output_type": "stream",
     "text": [
      "\n",
      "급여 분위수별 평균 나이\n",
      "Salary_Quantile\n",
      "Low       32.5\n",
      "Medium    28.5\n",
      "High      38.5\n",
      "Name: Age, dtype: float64\n"
     ]
    },
    {
     "name": "stderr",
     "output_type": "stream",
     "text": [
      "/var/folders/hs/81ncphtd2yzggndhp3qhjq400000gn/T/ipykernel_2064/160547932.py:4: FutureWarning: The default of observed=False is deprecated and will be changed to True in a future version of pandas. Pass observed=False to retain current behavior or observed=True to adopt the future default and silence this warning.\n",
      "  print(df.groupby('Salary_Quantile')['Age'].mean())\n"
     ]
    }
   ],
   "source": [
    "#3. 크기 기반 분위수로 그룹화\n",
    "df['Salary_Quantile'] = pd.qcut(df['Salary'], q = 3 , labels= ['Low','Medium', 'High'])\n",
    "print(\"\\n급여 분위수별 평균 나이\")\n",
    "print(df.groupby('Salary_Quantile')['Age'].mean())"
   ]
  },
  {
   "cell_type": "code",
   "execution_count": 36,
   "id": "6f11a0de",
   "metadata": {},
   "outputs": [
    {
     "name": "stdout",
     "output_type": "stream",
     "text": [
      "\n",
      "경력 수준별 평균 급여\n",
      "Experience\n",
      "Mid_level    68333.333333\n",
      "Senior       90000.000000\n",
      "junior       76500.000000\n",
      "Name: Salary, dtype: float64\n"
     ]
    }
   ],
   "source": [
    "# 4. 사용자 정의 함수로 그룹화 - apply\n",
    "\n",
    "def experience_level(age):\n",
    "    if age < 30:\n",
    "        return 'junior'\n",
    "    elif age < 40:\n",
    "        return 'Mid_level'\n",
    "    else: \n",
    "        return 'Senior'\n",
    "    \n",
    "df['Experience'] = df['Age'].apply(experience_level)\n",
    "print(\"\\n경력 수준별 평균 급여\")\n",
    "print(df.groupby('Experience')['Salary'].mean())"
   ]
  },
  {
   "cell_type": "code",
   "execution_count": 42,
   "id": "82fa6d93",
   "metadata": {},
   "outputs": [
    {
     "name": "stdout",
     "output_type": "stream",
     "text": [
      "점수 기준 상위 3명\n",
      "    Name  Score  Attendance\n",
      "3  David     96          75\n",
      "1    Bob     92          80\n",
      "4    Eve     88          85\n",
      "\n",
      " 출석률 기준 하위 2명\n",
      "    Name  Score  Attendance\n",
      "3  David     96          75\n",
      "1    Bob     92          80\n",
      "\n",
      "점수와 출석률 모두 높은 상위 3명:\n",
      "    Name  Score  Attendance\n",
      "3  David     96          75\n",
      "1    Bob     92          80\n",
      "4    Eve     88          85\n"
     ]
    }
   ],
   "source": [
    "df = pd.DataFrame({\n",
    "    'Name': ['Alice', 'Bob', 'Charlie', 'David', 'Eve', 'Frank'],\n",
    "    'Score': [85, 92, 78, 96, 88, 73],\n",
    "    'Attendance': [95, 80, 90, 75, 85, 92]\n",
    "})\n",
    "\n",
    "# 점수 기준 상위 3명\n",
    "print(\"점수 기준 상위 3명\")\n",
    "print(df.nlargest(3, 'Score'))\n",
    "\n",
    "# 출석률 기준 하위 2명\n",
    "print(\"\\n 출석률 기준 하위 2명\")\n",
    "print(df.nsmallest(2, 'Attendance'))\n",
    "\n",
    "# 여러 열 기준 정렬 (다중 기준)\n",
    "print(\"\\n점수와 출석률 모두 높은 상위 3명:\")\n",
    "print(df.nlargest(3,['Score','Attendance']))"
   ]
  },
  {
   "cell_type": "markdown",
   "id": "32ea6b22",
   "metadata": {},
   "source": [
    "### 3. 상관관계 및 공분산"
   ]
  },
  {
   "cell_type": "code",
   "execution_count": 44,
   "id": "aa8317c2",
   "metadata": {},
   "outputs": [
    {
     "name": "stdout",
     "output_type": "stream",
     "text": [
      "\n",
      "점수와 출석률의 상관관계\n",
      "               Score  Attendance\n",
      "Score       1.000000   -0.810441\n",
      "Attendance -0.810441    1.000000\n",
      "\n",
      "점수와 출석률의 공분산\n",
      "                Score  Attendance\n",
      "Score       74.266667  -53.266667\n",
      "Attendance -53.266667   58.166667\n"
     ]
    }
   ],
   "source": [
    "print(\"\\n점수와 출석률의 상관관계\")\n",
    "print(df[['Score','Attendance']].corr())\n",
    "print(\"\\n점수와 출석률의 공분산\")\n",
    "print(df[['Score','Attendance']].cov())"
   ]
  },
  {
   "cell_type": "markdown",
   "id": "62806d02",
   "metadata": {},
   "source": [
    "### 4. Merge"
   ]
  },
  {
   "cell_type": "code",
   "execution_count": 47,
   "id": "54e65424",
   "metadata": {},
   "outputs": [
    {
     "name": "stdout",
     "output_type": "stream",
     "text": [
      "고객정보\n",
      "   customer_id     name                email\n",
      "0            1    Alice    alice@example.com\n",
      "1            2      Bob      bob@example.com\n",
      "2            3  Charlie  charlie@example.com\n",
      "3            4    David    david@example.com\n",
      "4            5      Eve      eve@example.com\n",
      "\n",
      "주문 정보\n",
      "   order_id  customer_id   product  amount\n",
      "0       101            1    Laptop    1200\n",
      "1       102            2     Phone     800\n",
      "2       103            3    Tablet     450\n",
      "3       104            6   Monitor     300\n",
      "4       105            7  Keyboard      80\n"
     ]
    }
   ],
   "source": [
    "# 샘플 데이터: 고객 정보\n",
    "customers = pd.DataFrame({\n",
    "    'customer_id': [1, 2, 3, 4, 5],\n",
    "    'name': ['Alice', 'Bob', 'Charlie', 'David', 'Eve'],\n",
    "    'email': [\n",
    "        'alice@example.com',\n",
    "        'bob@example.com',\n",
    "        'charlie@example.com',\n",
    "        'david@example.com',\n",
    "        'eve@example.com'\n",
    "    ]\n",
    "})\n",
    "\n",
    "# 샘플 데이터: 주문 정보\n",
    "orders = pd.DataFrame({\n",
    "    'order_id': [101, 102, 103, 104, 105],\n",
    "    'customer_id': [1, 2, 3, 6, 7],\n",
    "    'product': ['Laptop', 'Phone', 'Tablet', 'Monitor', 'Keyboard'],\n",
    "    'amount': [1200, 800, 450, 300, 80]\n",
    "})\n",
    "\n",
    "print(\"고객정보\")\n",
    "print(customers)\n",
    "print(\"\\n주문 정보\")\n",
    "print(orders)\n"
   ]
  },
  {
   "cell_type": "code",
   "execution_count": 53,
   "id": "470f5590",
   "metadata": {},
   "outputs": [
    {
     "name": "stdout",
     "output_type": "stream",
     "text": [
      "내부 조인\n",
      "   customer_id     name                email  order_id product  amount\n",
      "0            1    Alice    alice@example.com       101  Laptop    1200\n",
      "1            2      Bob      bob@example.com       102   Phone     800\n",
      "2            3  Charlie  charlie@example.com       103  Tablet     450\n",
      "왼쪽 조인\n",
      "   customer_id     name                email  order_id product  amount\n",
      "0            1    Alice    alice@example.com     101.0  Laptop  1200.0\n",
      "1            2      Bob      bob@example.com     102.0   Phone   800.0\n",
      "2            3  Charlie  charlie@example.com     103.0  Tablet   450.0\n",
      "3            4    David    david@example.com       NaN     NaN     NaN\n",
      "4            5      Eve      eve@example.com       NaN     NaN     NaN\n",
      "오른쪽 조인\n",
      "   customer_id     name                email  order_id   product  amount\n",
      "0            1    Alice    alice@example.com       101    Laptop    1200\n",
      "1            2      Bob      bob@example.com       102     Phone     800\n",
      "2            3  Charlie  charlie@example.com       103    Tablet     450\n",
      "3            6      NaN                  NaN       104   Monitor     300\n",
      "4            7      NaN                  NaN       105  Keyboard      80\n",
      "외부 조인\n",
      "   customer_id     name                email  order_id   product  amount\n",
      "0            1    Alice    alice@example.com     101.0    Laptop  1200.0\n",
      "1            2      Bob      bob@example.com     102.0     Phone   800.0\n",
      "2            3  Charlie  charlie@example.com     103.0    Tablet   450.0\n",
      "3            4    David    david@example.com       NaN       NaN     NaN\n",
      "4            5      Eve      eve@example.com       NaN       NaN     NaN\n",
      "5            6      NaN                  NaN     104.0   Monitor   300.0\n",
      "6            7      NaN                  NaN     105.0  Keyboard    80.0\n"
     ]
    }
   ],
   "source": [
    "# 내부 조인 (inner join)\n",
    "inner_join = pd.merge(customers, orders, on = 'customer_id')\n",
    "print(f\"내부 조인\\n{inner_join}\")\n",
    "\n",
    "# 왼쪽 조인 (left join)\n",
    "left_join = pd.merge(customers, orders, on = 'customer_id', how = 'left')\n",
    "print(f\"왼쪽 조인\\n{left_join}\")\n",
    "\n",
    "# 오른쪽 조인 (right join)\n",
    "right_join = pd.merge(customers, orders, on = 'customer_id', how = 'right')\n",
    "print(f\"오른쪽 조인\\n{right_join}\")\n",
    "\n",
    "# 외부 조인 (outer join)\n",
    "outer_join = pd.merge(customers, orders, on = 'customer_id', how = 'outer')\n",
    "print(f\"외부 조인\\n{outer_join}\")"
   ]
  },
  {
   "cell_type": "markdown",
   "id": "b47c6d8c",
   "metadata": {},
   "source": [
    "### 5. Concat"
   ]
  },
  {
   "cell_type": "code",
   "execution_count": null,
   "id": "597882a8",
   "metadata": {
    "vscode": {
     "languageId": "groovy"
    }
   },
   "outputs": [
    {
     "name": "stdout",
     "output_type": "stream",
     "text": [
      "DataFrame 1:\n",
      "    A   B\n",
      "0  A0  B0\n",
      "1  A1  B1\n",
      "2  A2  B2\n",
      "\n",
      "DataFrame 2:\n",
      "    A   B\n",
      "0  A3  B3\n",
      "1  A4  B4\n",
      "2  A5  B5\n"
     ]
    }
   ],
   "source": [
    "# 데이터프레임 2개 생성\n",
    "df1 = pd.DataFrame({\n",
    "    'A': ['A0', 'A1', 'A2'],\n",
    "    'B': ['B0', 'B1', 'B2']\n",
    "})\n",
    "\n",
    "df2 = pd.DataFrame({\n",
    "    'A': ['A3', 'A4', 'A5'],\n",
    "    'B': ['B3', 'B4', 'B5']\n",
    "})\n",
    "\n",
    "print(\"DataFrame 1:\")\n",
    "print(df1)\n",
    "print(\"\\nDataFrame 2:\")\n",
    "print(df2)\n"
   ]
  },
  {
   "cell_type": "code",
   "execution_count": 55,
   "id": "5b44f808",
   "metadata": {},
   "outputs": [
    {
     "name": "stdout",
     "output_type": "stream",
     "text": [
      "\n",
      "세로 연결 (행 추가):\n",
      "    A   B\n",
      "0  A0  B0\n",
      "1  A1  B1\n",
      "2  A2  B2\n",
      "0  A3  B3\n",
      "1  A4  B4\n",
      "2  A5  B5\n",
      "\n",
      "가로 연결 (열 추가):\n",
      "    A   B   C   D\n",
      "0  A0  B0  C0  D0\n",
      "1  A1  B1  C1  D1\n",
      "2  A2  B2  C2  D2\n"
     ]
    }
   ],
   "source": [
    "import pandas as pd\n",
    "\n",
    "# df1, df2가 이미 위에서 생성되어 있다고 가정\n",
    "\n",
    "# 세로 방향으로 연결 (행 추가)\n",
    "result_rows = pd.concat([df1, df2])\n",
    "print(\"\\n세로 연결 (행 추가):\")\n",
    "print(result_rows)\n",
    "\n",
    "# 가로 방향으로 연결 (열 추가)\n",
    "df3 = pd.DataFrame({\n",
    "    'C': ['C0', 'C1', 'C2'],\n",
    "    'D': ['D0', 'D1', 'D2']\n",
    "})\n",
    "\n",
    "result_cols = pd.concat([df1, df3], axis=1)\n",
    "print(\"\\n가로 연결 (열 추가):\")\n",
    "print(result_cols)\n"
   ]
  },
  {
   "cell_type": "markdown",
   "id": "18eb56d7",
   "metadata": {},
   "source": [
    "### 6. 데이터 전처리"
   ]
  },
  {
   "cell_type": "code",
   "execution_count": 60,
   "id": "e9c0f062",
   "metadata": {},
   "outputs": [
    {
     "name": "stdout",
     "output_type": "stream",
     "text": [
      "원본 데이터:\n",
      "     A    B    C\n",
      "0  1.0  NaN  1.0\n",
      "1  2.0  2.0  2.0\n",
      "2  NaN  3.0  3.0\n",
      "3  4.0  4.0  NaN\n",
      "4  5.0  5.0  NaN\n",
      "\n",
      "결측치 여부:\n",
      "       A      B      C\n",
      "0  False   True  False\n",
      "1  False  False  False\n",
      "2   True  False  False\n",
      "3  False  False   True\n",
      "4  False  False   True\n"
     ]
    }
   ],
   "source": [
    "import pandas as pd\n",
    "import numpy as np\n",
    "\n",
    "# 결측치가 있는 데이터프레임 생성\n",
    "df = pd.DataFrame({\n",
    "    'A': [1, 2, np.nan, 4, 5],\n",
    "    'B': [np.nan, 2, 3, 4, 5],\n",
    "    'C': [1, 2, 3, np.nan, np.nan]\n",
    "})\n",
    "\n",
    "print(\"원본 데이터:\")\n",
    "print(df)\n",
    "\n",
    "# 결측치 확인\n",
    "print(\"\\n결측치 여부:\")\n",
    "print(df.isna())\n"
   ]
  },
  {
   "cell_type": "code",
   "execution_count": 73,
   "id": "52dc1ee0",
   "metadata": {},
   "outputs": [
    {
     "name": "stdout",
     "output_type": "stream",
     "text": [
      "\n",
      "열별 결측치 개수\n",
      "A    1\n",
      "B    1\n",
      "C    2\n",
      "dtype: int64\n",
      "\n",
      "삭제하기\n",
      "     A    B    C\n",
      "1  2.0  2.0  2.0\n",
      "\n",
      "0으로 채우기\n",
      "     A    B    C\n",
      "0  1.0  0.0  1.0\n",
      "1  2.0  2.0  2.0\n",
      "2  0.0  3.0  3.0\n",
      "3  4.0  4.0  0.0\n",
      "4  5.0  5.0  0.0\n",
      "\n",
      "평균으로 채우기\n",
      "     A    B    C\n",
      "0  1.0  3.5  1.0\n",
      "1  2.0  2.0  2.0\n",
      "2  3.0  3.0  3.0\n",
      "3  4.0  4.0  2.0\n",
      "4  5.0  5.0  2.0\n"
     ]
    }
   ],
   "source": [
    "# 결측치 개수 확인\n",
    "print(\"\\n열별 결측치 개수\")\n",
    "print(df.isna().sum())\n",
    "\n",
    "# 결측치 처리 방법 1: 삭제\n",
    "df_dropped = df.dropna()\n",
    "print(f\"\\n삭제하기\\n{df_dropped}\")\n",
    "\n",
    "# 결측치 처리 방법 2: 채우기\n",
    "df_filled = df.fillna(0)\n",
    "print(f\"\\n0으로 채우기\\n{df_filled}\")\n",
    "\n",
    "# 결측치 처리 방법3: 열별 평균으로 채우기\n",
    "df_mean = df.fillna(df.mean())\n",
    "print(f\"\\n평균으로 채우기\\n{df_mean}\")"
   ]
  },
  {
   "cell_type": "markdown",
   "id": "65b81fd9",
   "metadata": {},
   "source": [
    "### 7. 데이터 타입 변환"
   ]
  },
  {
   "cell_type": "code",
   "execution_count": 78,
   "id": "0e47b63a",
   "metadata": {},
   "outputs": [
    {
     "name": "stdout",
     "output_type": "stream",
     "text": [
      "원본 데이터 타입:\n",
      "A     object\n",
      "B    float64\n",
      "C     object\n",
      "D     object\n",
      "dtype: object\n",
      "<class 'pandas.core.frame.DataFrame'>\n",
      "RangeIndex: 5 entries, 0 to 4\n",
      "Data columns (total 4 columns):\n",
      " #   Column  Non-Null Count  Dtype  \n",
      "---  ------  --------------  -----  \n",
      " 0   A       5 non-null      object \n",
      " 1   B       5 non-null      float64\n",
      " 2   C       5 non-null      object \n",
      " 3   D       5 non-null      object \n",
      "dtypes: float64(1), object(3)\n",
      "memory usage: 292.0+ bytes\n",
      "None\n"
     ]
    }
   ],
   "source": [
    "import pandas as pd\n",
    "\n",
    "df = pd.DataFrame({\n",
    "    'A': ['1', '2', '3', '4', '5'],\n",
    "    'B': [1.1, 2.2, 3.3, 4.4, 5.5],\n",
    "    'C': ['2020-01-01', '2020-02-01', '2020-03-01', '2020-04-01', '2020-05-01'],\n",
    "    'D': ['True', 'False', 'True', 'False', 'True']\n",
    "})\n",
    "\n",
    "print(\"원본 데이터 타입:\")\n",
    "print(df.dtypes)\n",
    "print(df.info())\n"
   ]
  },
  {
   "cell_type": "code",
   "execution_count": 79,
   "id": "9067c086",
   "metadata": {},
   "outputs": [
    {
     "name": "stdout",
     "output_type": "stream",
     "text": [
      "<class 'pandas.core.frame.DataFrame'>\n",
      "RangeIndex: 5 entries, 0 to 4\n",
      "Data columns (total 4 columns):\n",
      " #   Column  Non-Null Count  Dtype  \n",
      "---  ------  --------------  -----  \n",
      " 0   A       5 non-null      int64  \n",
      " 1   B       5 non-null      float64\n",
      " 2   C       5 non-null      object \n",
      " 3   D       5 non-null      object \n",
      "dtypes: float64(1), int64(1), object(2)\n",
      "memory usage: 292.0+ bytes\n"
     ]
    }
   ],
   "source": [
    "# 문자열 -> 정수 변환\n",
    "df['A'] = df['A'].astype(int)\n",
    "df.info()"
   ]
  },
  {
   "cell_type": "code",
   "execution_count": 82,
   "id": "0947cbe9",
   "metadata": {},
   "outputs": [
    {
     "name": "stdout",
     "output_type": "stream",
     "text": [
      "<class 'pandas.core.frame.DataFrame'>\n",
      "RangeIndex: 5 entries, 0 to 4\n",
      "Data columns (total 4 columns):\n",
      " #   Column  Non-Null Count  Dtype  \n",
      "---  ------  --------------  -----  \n",
      " 0   A       5 non-null      int64  \n",
      " 1   B       5 non-null      float64\n",
      " 2   C       5 non-null      object \n",
      " 3   D       5 non-null      bool   \n",
      "dtypes: bool(1), float64(1), int64(1), object(1)\n",
      "memory usage: 257.0+ bytes\n"
     ]
    }
   ],
   "source": [
    "# 문자열 -> 불리언 변환(주의사항 있음)\n",
    "df['D'] = df['D'].astype(bool)\n",
    "df.info() # 문자열 false도 true로 변환될 수 있음"
   ]
  },
  {
   "cell_type": "code",
   "execution_count": 86,
   "id": "33ce398b",
   "metadata": {},
   "outputs": [
    {
     "data": {
      "text/html": [
       "<div>\n",
       "<style scoped>\n",
       "    .dataframe tbody tr th:only-of-type {\n",
       "        vertical-align: middle;\n",
       "    }\n",
       "\n",
       "    .dataframe tbody tr th {\n",
       "        vertical-align: top;\n",
       "    }\n",
       "\n",
       "    .dataframe thead th {\n",
       "        text-align: right;\n",
       "    }\n",
       "</style>\n",
       "<table border=\"1\" class=\"dataframe\">\n",
       "  <thead>\n",
       "    <tr style=\"text-align: right;\">\n",
       "      <th></th>\n",
       "      <th>D</th>\n",
       "      <th>D_correct1</th>\n",
       "      <th>D_correct2</th>\n",
       "    </tr>\n",
       "  </thead>\n",
       "  <tbody>\n",
       "    <tr>\n",
       "      <th>0</th>\n",
       "      <td>True</td>\n",
       "      <td>True</td>\n",
       "      <td>True</td>\n",
       "    </tr>\n",
       "    <tr>\n",
       "      <th>1</th>\n",
       "      <td>False</td>\n",
       "      <td>False</td>\n",
       "      <td>False</td>\n",
       "    </tr>\n",
       "    <tr>\n",
       "      <th>2</th>\n",
       "      <td>True</td>\n",
       "      <td>True</td>\n",
       "      <td>True</td>\n",
       "    </tr>\n",
       "    <tr>\n",
       "      <th>3</th>\n",
       "      <td>False</td>\n",
       "      <td>False</td>\n",
       "      <td>False</td>\n",
       "    </tr>\n",
       "    <tr>\n",
       "      <th>4</th>\n",
       "      <td>True</td>\n",
       "      <td>True</td>\n",
       "      <td>True</td>\n",
       "    </tr>\n",
       "  </tbody>\n",
       "</table>\n",
       "</div>"
      ],
      "text/plain": [
       "       D  D_correct1  D_correct2\n",
       "0   True        True        True\n",
       "1  False       False       False\n",
       "2   True        True        True\n",
       "3  False       False       False\n",
       "4   True        True        True"
      ]
     },
     "execution_count": 86,
     "metadata": {},
     "output_type": "execute_result"
    }
   ],
   "source": [
    "# 올바른 불리언 변환 방법\n",
    "df_original = pd.DataFrame({\n",
    "    'D':['True','False','True','False','True']\n",
    "})\n",
    "\n",
    "# 1. map 사용\n",
    "df_original['D_correct1'] = df_original['D'].map({'True':True, 'False': False})\n",
    "# 2. 조건문 사용\n",
    "df_original['D_correct2'] = (df_original['D']== 'True')\n",
    "\n",
    "df_original"
   ]
  },
  {
   "cell_type": "code",
   "execution_count": null,
   "id": "581b7c99",
   "metadata": {},
   "outputs": [],
   "source": []
  }
 ],
 "metadata": {
  "kernelspec": {
   "display_name": "3.12.11",
   "language": "python",
   "name": "python3"
  },
  "language_info": {
   "codemirror_mode": {
    "name": "ipython",
    "version": 3
   },
   "file_extension": ".py",
   "mimetype": "text/x-python",
   "name": "python",
   "nbconvert_exporter": "python",
   "pygments_lexer": "ipython3",
   "version": "3.12.11"
  }
 },
 "nbformat": 4,
 "nbformat_minor": 5
}
